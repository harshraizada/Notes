{
 "cells": [
  {
   "cell_type": "markdown",
   "metadata": {},
   "source": [
    "# Session 1 - Data Engineering For Analytics\n",
    "\n",
    "## Webscraping a website using Python\n",
    "\n",
    "We will webscrape using Python and the BeautifulSoup package. \n",
    "In this example, we will use a url of best restaurants in Chicago's Chinatown, Greektown, Loop, and River North.  "
   ]
  },
  {
   "cell_type": "code",
   "execution_count": 1,
   "metadata": {},
   "outputs": [],
   "source": [
    "#Import packages\n",
    "from bs4 import BeautifulSoup as soup\n",
    "#import urllib2\n",
    "from urllib.request import urlopen, urlretrieve\n",
    "import urllib\n",
    "import requests\n",
    "import re\n",
    "import pandas as pd\n",
    "import matplotlib.pyplot as plt\n",
    "from matplotlib.pyplot import figure\n",
    "import numpy as np"
   ]
  },
  {
   "cell_type": "code",
   "execution_count": 2,
   "metadata": {},
   "outputs": [],
   "source": [
    "# URLs I want to scrape\n",
    "yelp_url_chinatown = 'https://www.yelp.com/search?find_desc=Restaurants&find_loc=Chinatown%2C+Chicago%2C+IL&ns=1'\n",
    "yelp_url_greektown = 'https://www.yelp.com/search?find_desc=Restaurants&find_loc=Greektown,+Chicago,+IL'\n",
    "yelp_url_rivernorth = 'https://www.yelp.com/search?find_desc=Restaurants&find_loc=river+north%2C+Chicago%2C+IL+60616&ns=1'"
   ]
  },
  {
   "cell_type": "code",
   "execution_count": 3,
   "metadata": {},
   "outputs": [],
   "source": [
    "# Create a function that will parse the html from the given URL.  It'll then scrape the fields including:\n",
    "# Name, reviews, rating, etc.  \n",
    "\n",
    "def yelp_data(url):\n",
    "    my_page = urlopen(url)\n",
    "    my_soup = soup(my_page, \"html.parser\")\n",
    "    data = []  # Create an empty list to store the data\n",
    "    containers = my_soup.findAll(\"li\", {\"class\":\"regular-search-result\"})  # Searches for the specific html class to store scraped data\n",
    "    for container in containers:   # Iterate through each 'container' and stores the below attributes\n",
    "        name = container.find(\"a\", {\"class\":\"biz-name\"}).contents[0].text.strip() # name of the restaurants\n",
    "        # Number of reviews\n",
    "        reviews = container.find(\"span\", {\"class\":\"review-count rating-qualifier\"}).contents[0].strip().split(' ', 1)[0]\n",
    "        rating = container.find(\"img\", {\"class\":\"offscreen\"}) # collects tag for rating\n",
    "        # price\n",
    "        try:\n",
    "            price = container.find(\"span\", {\"class\":\"business-attribute price-range\"}).contents[0].strip()\n",
    "        except AttributeError:\n",
    "            price = \"\"\n",
    "        # category of restaurant\n",
    "        category = container.find(\"span\", {\"class\":\"category-str-list\"}).text.replace(\"\\n\",\"\").replace(\" \",\"\").strip() \n",
    "        # Neighborhood\n",
    "        try:\n",
    "            neighborhood = container.find(\"span\", {\"class\":\"biz-city\"}).text.strip()\n",
    "        except AttributeError:\n",
    "            neighborhood = container.find(\"span\", {\"class\":\"neighborhood-str-list\"}).text.strip()\n",
    "        try:\n",
    "            address = container.find(\"address\").text.strip()\n",
    "        except AttributeError:\n",
    "            address = \"\"\n",
    "        phone = container.find(\"span\", {\"class\":\"biz-phone\"}).text.strip() \n",
    "        photo = container.find(\"img\", {\"class\":\"scrollable-photos_img\"})['src']\n",
    "        data.append({\"name\": name, \"reviews\": reviews, \"rating\": str(rating)[10:13], \"price\": price,\"category\": category\\\n",
    "                     ,\"neighborhood\": neighborhood, \"address\":address, \"phone\":phone, \"photo_url\":photo})\n",
    "    return(data)\n"
   ]
  },
  {
   "cell_type": "code",
   "execution_count": 4,
   "metadata": {},
   "outputs": [],
   "source": [
    "# Use the function to create a dataframe of the Neighborhood we selected.\n",
    "yelp_chinatown = pd.DataFrame(yelp_data(yelp_url_chinatown))"
   ]
  },
  {
   "cell_type": "code",
   "execution_count": 5,
   "metadata": {},
   "outputs": [
    {
     "ename": "KeyError",
     "evalue": "'price'",
     "output_type": "error",
     "traceback": [
      "\u001b[0;31m---------------------------------------------------------------------------\u001b[0m",
      "\u001b[0;31mKeyError\u001b[0m                                  Traceback (most recent call last)",
      "\u001b[0;32m/anaconda3/lib/python3.7/site-packages/pandas/core/indexes/base.py\u001b[0m in \u001b[0;36mget_loc\u001b[0;34m(self, key, method, tolerance)\u001b[0m\n\u001b[1;32m   3077\u001b[0m             \u001b[0;32mtry\u001b[0m\u001b[0;34m:\u001b[0m\u001b[0;34m\u001b[0m\u001b[0;34m\u001b[0m\u001b[0m\n\u001b[0;32m-> 3078\u001b[0;31m                 \u001b[0;32mreturn\u001b[0m \u001b[0mself\u001b[0m\u001b[0;34m.\u001b[0m\u001b[0m_engine\u001b[0m\u001b[0;34m.\u001b[0m\u001b[0mget_loc\u001b[0m\u001b[0;34m(\u001b[0m\u001b[0mkey\u001b[0m\u001b[0;34m)\u001b[0m\u001b[0;34m\u001b[0m\u001b[0;34m\u001b[0m\u001b[0m\n\u001b[0m\u001b[1;32m   3079\u001b[0m             \u001b[0;32mexcept\u001b[0m \u001b[0mKeyError\u001b[0m\u001b[0;34m:\u001b[0m\u001b[0;34m\u001b[0m\u001b[0;34m\u001b[0m\u001b[0m\n",
      "\u001b[0;32mpandas/_libs/index.pyx\u001b[0m in \u001b[0;36mpandas._libs.index.IndexEngine.get_loc\u001b[0;34m()\u001b[0m\n",
      "\u001b[0;32mpandas/_libs/index.pyx\u001b[0m in \u001b[0;36mpandas._libs.index.IndexEngine.get_loc\u001b[0;34m()\u001b[0m\n",
      "\u001b[0;32mpandas/_libs/hashtable_class_helper.pxi\u001b[0m in \u001b[0;36mpandas._libs.hashtable.PyObjectHashTable.get_item\u001b[0;34m()\u001b[0m\n",
      "\u001b[0;32mpandas/_libs/hashtable_class_helper.pxi\u001b[0m in \u001b[0;36mpandas._libs.hashtable.PyObjectHashTable.get_item\u001b[0;34m()\u001b[0m\n",
      "\u001b[0;31mKeyError\u001b[0m: 'price'",
      "\nDuring handling of the above exception, another exception occurred:\n",
      "\u001b[0;31mKeyError\u001b[0m                                  Traceback (most recent call last)",
      "\u001b[0;32m<ipython-input-5-f9d06b25f634>\u001b[0m in \u001b[0;36m<module>\u001b[0;34m\u001b[0m\n\u001b[1;32m      1\u001b[0m \u001b[0;31m# Count number of price\u001b[0m\u001b[0;34m\u001b[0m\u001b[0;34m\u001b[0m\u001b[0;34m\u001b[0m\u001b[0m\n\u001b[0;32m----> 2\u001b[0;31m \u001b[0myelp_chinatown\u001b[0m\u001b[0;34m[\u001b[0m\u001b[0;34m'num_price'\u001b[0m\u001b[0;34m]\u001b[0m \u001b[0;34m=\u001b[0m \u001b[0myelp_chinatown\u001b[0m\u001b[0;34m[\u001b[0m\u001b[0;34m'price'\u001b[0m\u001b[0;34m]\u001b[0m\u001b[0;34m.\u001b[0m\u001b[0mapply\u001b[0m\u001b[0;34m(\u001b[0m\u001b[0;32mlambda\u001b[0m \u001b[0mx\u001b[0m\u001b[0;34m:\u001b[0m \u001b[0mlen\u001b[0m\u001b[0;34m(\u001b[0m\u001b[0mx\u001b[0m\u001b[0;34m)\u001b[0m\u001b[0;34m)\u001b[0m\u001b[0;34m\u001b[0m\u001b[0;34m\u001b[0m\u001b[0m\n\u001b[0m\u001b[1;32m      3\u001b[0m \u001b[0myelp_chinatown\u001b[0m\u001b[0;34m[\u001b[0m\u001b[0;34m'search_area'\u001b[0m\u001b[0;34m]\u001b[0m \u001b[0;34m=\u001b[0m \u001b[0;34m\"Chinatown\"\u001b[0m\u001b[0;34m\u001b[0m\u001b[0;34m\u001b[0m\u001b[0m\n",
      "\u001b[0;32m/anaconda3/lib/python3.7/site-packages/pandas/core/frame.py\u001b[0m in \u001b[0;36m__getitem__\u001b[0;34m(self, key)\u001b[0m\n\u001b[1;32m   2686\u001b[0m             \u001b[0;32mreturn\u001b[0m \u001b[0mself\u001b[0m\u001b[0;34m.\u001b[0m\u001b[0m_getitem_multilevel\u001b[0m\u001b[0;34m(\u001b[0m\u001b[0mkey\u001b[0m\u001b[0;34m)\u001b[0m\u001b[0;34m\u001b[0m\u001b[0;34m\u001b[0m\u001b[0m\n\u001b[1;32m   2687\u001b[0m         \u001b[0;32melse\u001b[0m\u001b[0;34m:\u001b[0m\u001b[0;34m\u001b[0m\u001b[0;34m\u001b[0m\u001b[0m\n\u001b[0;32m-> 2688\u001b[0;31m             \u001b[0;32mreturn\u001b[0m \u001b[0mself\u001b[0m\u001b[0;34m.\u001b[0m\u001b[0m_getitem_column\u001b[0m\u001b[0;34m(\u001b[0m\u001b[0mkey\u001b[0m\u001b[0;34m)\u001b[0m\u001b[0;34m\u001b[0m\u001b[0;34m\u001b[0m\u001b[0m\n\u001b[0m\u001b[1;32m   2689\u001b[0m \u001b[0;34m\u001b[0m\u001b[0m\n\u001b[1;32m   2690\u001b[0m     \u001b[0;32mdef\u001b[0m \u001b[0m_getitem_column\u001b[0m\u001b[0;34m(\u001b[0m\u001b[0mself\u001b[0m\u001b[0;34m,\u001b[0m \u001b[0mkey\u001b[0m\u001b[0;34m)\u001b[0m\u001b[0;34m:\u001b[0m\u001b[0;34m\u001b[0m\u001b[0;34m\u001b[0m\u001b[0m\n",
      "\u001b[0;32m/anaconda3/lib/python3.7/site-packages/pandas/core/frame.py\u001b[0m in \u001b[0;36m_getitem_column\u001b[0;34m(self, key)\u001b[0m\n\u001b[1;32m   2693\u001b[0m         \u001b[0;31m# get column\u001b[0m\u001b[0;34m\u001b[0m\u001b[0;34m\u001b[0m\u001b[0;34m\u001b[0m\u001b[0m\n\u001b[1;32m   2694\u001b[0m         \u001b[0;32mif\u001b[0m \u001b[0mself\u001b[0m\u001b[0;34m.\u001b[0m\u001b[0mcolumns\u001b[0m\u001b[0;34m.\u001b[0m\u001b[0mis_unique\u001b[0m\u001b[0;34m:\u001b[0m\u001b[0;34m\u001b[0m\u001b[0;34m\u001b[0m\u001b[0m\n\u001b[0;32m-> 2695\u001b[0;31m             \u001b[0;32mreturn\u001b[0m \u001b[0mself\u001b[0m\u001b[0;34m.\u001b[0m\u001b[0m_get_item_cache\u001b[0m\u001b[0;34m(\u001b[0m\u001b[0mkey\u001b[0m\u001b[0;34m)\u001b[0m\u001b[0;34m\u001b[0m\u001b[0;34m\u001b[0m\u001b[0m\n\u001b[0m\u001b[1;32m   2696\u001b[0m \u001b[0;34m\u001b[0m\u001b[0m\n\u001b[1;32m   2697\u001b[0m         \u001b[0;31m# duplicate columns & possible reduce dimensionality\u001b[0m\u001b[0;34m\u001b[0m\u001b[0;34m\u001b[0m\u001b[0;34m\u001b[0m\u001b[0m\n",
      "\u001b[0;32m/anaconda3/lib/python3.7/site-packages/pandas/core/generic.py\u001b[0m in \u001b[0;36m_get_item_cache\u001b[0;34m(self, item)\u001b[0m\n\u001b[1;32m   2487\u001b[0m         \u001b[0mres\u001b[0m \u001b[0;34m=\u001b[0m \u001b[0mcache\u001b[0m\u001b[0;34m.\u001b[0m\u001b[0mget\u001b[0m\u001b[0;34m(\u001b[0m\u001b[0mitem\u001b[0m\u001b[0;34m)\u001b[0m\u001b[0;34m\u001b[0m\u001b[0;34m\u001b[0m\u001b[0m\n\u001b[1;32m   2488\u001b[0m         \u001b[0;32mif\u001b[0m \u001b[0mres\u001b[0m \u001b[0;32mis\u001b[0m \u001b[0;32mNone\u001b[0m\u001b[0;34m:\u001b[0m\u001b[0;34m\u001b[0m\u001b[0;34m\u001b[0m\u001b[0m\n\u001b[0;32m-> 2489\u001b[0;31m             \u001b[0mvalues\u001b[0m \u001b[0;34m=\u001b[0m \u001b[0mself\u001b[0m\u001b[0;34m.\u001b[0m\u001b[0m_data\u001b[0m\u001b[0;34m.\u001b[0m\u001b[0mget\u001b[0m\u001b[0;34m(\u001b[0m\u001b[0mitem\u001b[0m\u001b[0;34m)\u001b[0m\u001b[0;34m\u001b[0m\u001b[0;34m\u001b[0m\u001b[0m\n\u001b[0m\u001b[1;32m   2490\u001b[0m             \u001b[0mres\u001b[0m \u001b[0;34m=\u001b[0m \u001b[0mself\u001b[0m\u001b[0;34m.\u001b[0m\u001b[0m_box_item_values\u001b[0m\u001b[0;34m(\u001b[0m\u001b[0mitem\u001b[0m\u001b[0;34m,\u001b[0m \u001b[0mvalues\u001b[0m\u001b[0;34m)\u001b[0m\u001b[0;34m\u001b[0m\u001b[0;34m\u001b[0m\u001b[0m\n\u001b[1;32m   2491\u001b[0m             \u001b[0mcache\u001b[0m\u001b[0;34m[\u001b[0m\u001b[0mitem\u001b[0m\u001b[0;34m]\u001b[0m \u001b[0;34m=\u001b[0m \u001b[0mres\u001b[0m\u001b[0;34m\u001b[0m\u001b[0;34m\u001b[0m\u001b[0m\n",
      "\u001b[0;32m/anaconda3/lib/python3.7/site-packages/pandas/core/internals.py\u001b[0m in \u001b[0;36mget\u001b[0;34m(self, item, fastpath)\u001b[0m\n\u001b[1;32m   4113\u001b[0m \u001b[0;34m\u001b[0m\u001b[0m\n\u001b[1;32m   4114\u001b[0m             \u001b[0;32mif\u001b[0m \u001b[0;32mnot\u001b[0m \u001b[0misna\u001b[0m\u001b[0;34m(\u001b[0m\u001b[0mitem\u001b[0m\u001b[0;34m)\u001b[0m\u001b[0;34m:\u001b[0m\u001b[0;34m\u001b[0m\u001b[0;34m\u001b[0m\u001b[0m\n\u001b[0;32m-> 4115\u001b[0;31m                 \u001b[0mloc\u001b[0m \u001b[0;34m=\u001b[0m \u001b[0mself\u001b[0m\u001b[0;34m.\u001b[0m\u001b[0mitems\u001b[0m\u001b[0;34m.\u001b[0m\u001b[0mget_loc\u001b[0m\u001b[0;34m(\u001b[0m\u001b[0mitem\u001b[0m\u001b[0;34m)\u001b[0m\u001b[0;34m\u001b[0m\u001b[0;34m\u001b[0m\u001b[0m\n\u001b[0m\u001b[1;32m   4116\u001b[0m             \u001b[0;32melse\u001b[0m\u001b[0;34m:\u001b[0m\u001b[0;34m\u001b[0m\u001b[0;34m\u001b[0m\u001b[0m\n\u001b[1;32m   4117\u001b[0m                 \u001b[0mindexer\u001b[0m \u001b[0;34m=\u001b[0m \u001b[0mnp\u001b[0m\u001b[0;34m.\u001b[0m\u001b[0marange\u001b[0m\u001b[0;34m(\u001b[0m\u001b[0mlen\u001b[0m\u001b[0;34m(\u001b[0m\u001b[0mself\u001b[0m\u001b[0;34m.\u001b[0m\u001b[0mitems\u001b[0m\u001b[0;34m)\u001b[0m\u001b[0;34m)\u001b[0m\u001b[0;34m[\u001b[0m\u001b[0misna\u001b[0m\u001b[0;34m(\u001b[0m\u001b[0mself\u001b[0m\u001b[0;34m.\u001b[0m\u001b[0mitems\u001b[0m\u001b[0;34m)\u001b[0m\u001b[0;34m]\u001b[0m\u001b[0;34m\u001b[0m\u001b[0;34m\u001b[0m\u001b[0m\n",
      "\u001b[0;32m/anaconda3/lib/python3.7/site-packages/pandas/core/indexes/base.py\u001b[0m in \u001b[0;36mget_loc\u001b[0;34m(self, key, method, tolerance)\u001b[0m\n\u001b[1;32m   3078\u001b[0m                 \u001b[0;32mreturn\u001b[0m \u001b[0mself\u001b[0m\u001b[0;34m.\u001b[0m\u001b[0m_engine\u001b[0m\u001b[0;34m.\u001b[0m\u001b[0mget_loc\u001b[0m\u001b[0;34m(\u001b[0m\u001b[0mkey\u001b[0m\u001b[0;34m)\u001b[0m\u001b[0;34m\u001b[0m\u001b[0;34m\u001b[0m\u001b[0m\n\u001b[1;32m   3079\u001b[0m             \u001b[0;32mexcept\u001b[0m \u001b[0mKeyError\u001b[0m\u001b[0;34m:\u001b[0m\u001b[0;34m\u001b[0m\u001b[0;34m\u001b[0m\u001b[0m\n\u001b[0;32m-> 3080\u001b[0;31m                 \u001b[0;32mreturn\u001b[0m \u001b[0mself\u001b[0m\u001b[0;34m.\u001b[0m\u001b[0m_engine\u001b[0m\u001b[0;34m.\u001b[0m\u001b[0mget_loc\u001b[0m\u001b[0;34m(\u001b[0m\u001b[0mself\u001b[0m\u001b[0;34m.\u001b[0m\u001b[0m_maybe_cast_indexer\u001b[0m\u001b[0;34m(\u001b[0m\u001b[0mkey\u001b[0m\u001b[0;34m)\u001b[0m\u001b[0;34m)\u001b[0m\u001b[0;34m\u001b[0m\u001b[0;34m\u001b[0m\u001b[0m\n\u001b[0m\u001b[1;32m   3081\u001b[0m \u001b[0;34m\u001b[0m\u001b[0m\n\u001b[1;32m   3082\u001b[0m         \u001b[0mindexer\u001b[0m \u001b[0;34m=\u001b[0m \u001b[0mself\u001b[0m\u001b[0;34m.\u001b[0m\u001b[0mget_indexer\u001b[0m\u001b[0;34m(\u001b[0m\u001b[0;34m[\u001b[0m\u001b[0mkey\u001b[0m\u001b[0;34m]\u001b[0m\u001b[0;34m,\u001b[0m \u001b[0mmethod\u001b[0m\u001b[0;34m=\u001b[0m\u001b[0mmethod\u001b[0m\u001b[0;34m,\u001b[0m \u001b[0mtolerance\u001b[0m\u001b[0;34m=\u001b[0m\u001b[0mtolerance\u001b[0m\u001b[0;34m)\u001b[0m\u001b[0;34m\u001b[0m\u001b[0;34m\u001b[0m\u001b[0m\n",
      "\u001b[0;32mpandas/_libs/index.pyx\u001b[0m in \u001b[0;36mpandas._libs.index.IndexEngine.get_loc\u001b[0;34m()\u001b[0m\n",
      "\u001b[0;32mpandas/_libs/index.pyx\u001b[0m in \u001b[0;36mpandas._libs.index.IndexEngine.get_loc\u001b[0;34m()\u001b[0m\n",
      "\u001b[0;32mpandas/_libs/hashtable_class_helper.pxi\u001b[0m in \u001b[0;36mpandas._libs.hashtable.PyObjectHashTable.get_item\u001b[0;34m()\u001b[0m\n",
      "\u001b[0;32mpandas/_libs/hashtable_class_helper.pxi\u001b[0m in \u001b[0;36mpandas._libs.hashtable.PyObjectHashTable.get_item\u001b[0;34m()\u001b[0m\n",
      "\u001b[0;31mKeyError\u001b[0m: 'price'"
     ]
    }
   ],
   "source": [
    "# Count number of price \n",
    "yelp_chinatown['num_price'] = yelp_chinatown['price'].apply(lambda x: len(x)) \n",
    "yelp_chinatown['search_area'] = \"Chinatown\""
   ]
  },
  {
   "cell_type": "code",
   "execution_count": 6,
   "metadata": {},
   "outputs": [
    {
     "data": {
      "text/html": [
       "<div>\n",
       "<style scoped>\n",
       "    .dataframe tbody tr th:only-of-type {\n",
       "        vertical-align: middle;\n",
       "    }\n",
       "\n",
       "    .dataframe tbody tr th {\n",
       "        vertical-align: top;\n",
       "    }\n",
       "\n",
       "    .dataframe thead th {\n",
       "        text-align: right;\n",
       "    }\n",
       "</style>\n",
       "<table border=\"1\" class=\"dataframe\">\n",
       "  <thead>\n",
       "    <tr style=\"text-align: right;\">\n",
       "      <th></th>\n",
       "      <th>address</th>\n",
       "      <th>category</th>\n",
       "      <th>name</th>\n",
       "      <th>neighborhood</th>\n",
       "      <th>phone</th>\n",
       "      <th>photo_url</th>\n",
       "      <th>price</th>\n",
       "      <th>rating</th>\n",
       "      <th>reviews</th>\n",
       "      <th>num_price</th>\n",
       "      <th>search_area</th>\n",
       "    </tr>\n",
       "  </thead>\n",
       "  <tbody>\n",
       "    <tr>\n",
       "      <th>0</th>\n",
       "      <td>2222 S Archer Ave</td>\n",
       "      <td>DimSum,Bars,Seafood</td>\n",
       "      <td>Dolo Restaurant and Bar</td>\n",
       "      <td>Chinatown</td>\n",
       "      <td>(312) 877-5117</td>\n",
       "      <td>https://s3-media1.fl.yelpcdn.com/bphoto/jk86Qt...</td>\n",
       "      <td>$$</td>\n",
       "      <td>4.0</td>\n",
       "      <td>371</td>\n",
       "      <td>2</td>\n",
       "      <td>Chinatown</td>\n",
       "    </tr>\n",
       "    <tr>\n",
       "      <th>1</th>\n",
       "      <td>2168 S Archer Ave</td>\n",
       "      <td>Seafood,DimSum,Cantonese</td>\n",
       "      <td>MingHin Cuisine</td>\n",
       "      <td>Chinatown</td>\n",
       "      <td>(312) 808-1999</td>\n",
       "      <td>https://s3-media3.fl.yelpcdn.com/bphoto/tJlRSu...</td>\n",
       "      <td>$$</td>\n",
       "      <td>4.0</td>\n",
       "      <td>1869</td>\n",
       "      <td>2</td>\n",
       "      <td>Chinatown</td>\n",
       "    </tr>\n",
       "    <tr>\n",
       "      <th>2</th>\n",
       "      <td>2002 S Wentworth Ave</td>\n",
       "      <td>Chinese,Barbeque</td>\n",
       "      <td>Qing Xiang Yuan Dumplings</td>\n",
       "      <td>Chinatown</td>\n",
       "      <td>(312) 799-1118</td>\n",
       "      <td>https://s3-media3.fl.yelpcdn.com/bphoto/d0I1bE...</td>\n",
       "      <td>$$</td>\n",
       "      <td>4.0</td>\n",
       "      <td>614</td>\n",
       "      <td>2</td>\n",
       "      <td>Chinatown</td>\n",
       "    </tr>\n",
       "    <tr>\n",
       "      <th>3</th>\n",
       "      <td>2138 South Archer Ave</td>\n",
       "      <td>Chinese</td>\n",
       "      <td>MCCB Chicago 时尚食谱</td>\n",
       "      <td>Chinatown</td>\n",
       "      <td>(312) 881-0168</td>\n",
       "      <td>https://s3-media2.fl.yelpcdn.com/bphoto/Jnmu_r...</td>\n",
       "      <td>$$</td>\n",
       "      <td>4.5</td>\n",
       "      <td>139</td>\n",
       "      <td>2</td>\n",
       "      <td>Chinatown</td>\n",
       "    </tr>\n",
       "    <tr>\n",
       "      <th>4</th>\n",
       "      <td>243 W Cermak Rd</td>\n",
       "      <td>Szechuan</td>\n",
       "      <td>Szechwan JMC</td>\n",
       "      <td>Chinatown</td>\n",
       "      <td>(312) 929-2212</td>\n",
       "      <td>https://s3-media3.fl.yelpcdn.com/bphoto/MByW_k...</td>\n",
       "      <td>$$</td>\n",
       "      <td>4.5</td>\n",
       "      <td>23</td>\n",
       "      <td>2</td>\n",
       "      <td>Chinatown</td>\n",
       "    </tr>\n",
       "  </tbody>\n",
       "</table>\n",
       "</div>"
      ],
      "text/plain": [
       "                 address                  category                       name  \\\n",
       "0      2222 S Archer Ave       DimSum,Bars,Seafood    Dolo Restaurant and Bar   \n",
       "1      2168 S Archer Ave  Seafood,DimSum,Cantonese            MingHin Cuisine   \n",
       "2   2002 S Wentworth Ave          Chinese,Barbeque  Qing Xiang Yuan Dumplings   \n",
       "3  2138 South Archer Ave                   Chinese          MCCB Chicago 时尚食谱   \n",
       "4        243 W Cermak Rd                  Szechuan               Szechwan JMC   \n",
       "\n",
       "  neighborhood           phone  \\\n",
       "0    Chinatown  (312) 877-5117   \n",
       "1    Chinatown  (312) 808-1999   \n",
       "2    Chinatown  (312) 799-1118   \n",
       "3    Chinatown  (312) 881-0168   \n",
       "4    Chinatown  (312) 929-2212   \n",
       "\n",
       "                                           photo_url price rating reviews  \\\n",
       "0  https://s3-media1.fl.yelpcdn.com/bphoto/jk86Qt...    $$    4.0     371   \n",
       "1  https://s3-media3.fl.yelpcdn.com/bphoto/tJlRSu...    $$    4.0    1869   \n",
       "2  https://s3-media3.fl.yelpcdn.com/bphoto/d0I1bE...    $$    4.0     614   \n",
       "3  https://s3-media2.fl.yelpcdn.com/bphoto/Jnmu_r...    $$    4.5     139   \n",
       "4  https://s3-media3.fl.yelpcdn.com/bphoto/MByW_k...    $$    4.5      23   \n",
       "\n",
       "   num_price search_area  \n",
       "0          2   Chinatown  \n",
       "1          2   Chinatown  \n",
       "2          2   Chinatown  \n",
       "3          2   Chinatown  \n",
       "4          2   Chinatown  "
      ]
     },
     "execution_count": 6,
     "metadata": {},
     "output_type": "execute_result"
    }
   ],
   "source": [
    "yelp_chinatown.head()"
   ]
  },
  {
   "cell_type": "code",
   "execution_count": 7,
   "metadata": {},
   "outputs": [],
   "source": [
    "yelp_greektown = pd.DataFrame(yelp_data(yelp_url_greektown))\n",
    "yelp_greektown['num_price'] = yelp_greektown['price'].apply(lambda x: len(x)) \n",
    "yelp_greektown['search_area'] = \"Greektown\""
   ]
  },
  {
   "cell_type": "code",
   "execution_count": 10,
   "metadata": {},
   "outputs": [],
   "source": [
    "yelp_rivernorth = pd.DataFrame(yelp_data(yelp_url_rivernorth))\n",
    "yelp_rivernorth['num_price'] = yelp_rivernorth['price'].apply(lambda x: len(x)) \n",
    "yelp_rivernorth['search_area'] = \"River North\""
   ]
  },
  {
   "cell_type": "code",
   "execution_count": 20,
   "metadata": {},
   "outputs": [],
   "source": [
    "# Excercise : add analysis for west loop"
   ]
  },
  {
   "cell_type": "code",
   "execution_count": 12,
   "metadata": {},
   "outputs": [],
   "source": [
    "# Store the data as a csv\n",
    "yelp_chinatown.to_csv(\"yelp_chinatown.csv\")\n",
    "yelp_greektown.to_csv(\"yelp_greektown.csv\")\n",
    "yelp_rivernorth.to_csv(\"yelp_rivernorth.csv\")"
   ]
  },
  {
   "cell_type": "markdown",
   "metadata": {},
   "source": [
    "The column 'photo_url' contains the url for the image of each restaurant on yelp. The following function will download the image from the given URL."
   ]
  },
  {
   "cell_type": "code",
   "execution_count": 13,
   "metadata": {},
   "outputs": [],
   "source": [
    "# Create a function that download the images from the URL in the 'photo_url' column in the df.\n",
    "def download_images(df):\n",
    "    for x in range(len(df)):\n",
    "        urllib.request.urlretrieve(df.loc[x, 'photo_url'], \"%s_img.jpg\" %df.loc[x,'name'])"
   ]
  },
  {
   "cell_type": "markdown",
   "metadata": {},
   "source": [
    "# Data Analysis and visuals of the data"
   ]
  },
  {
   "cell_type": "code",
   "execution_count": 14,
   "metadata": {},
   "outputs": [],
   "source": [
    "# Combine the dataframes of the neighborhoods we scraped and collected into one dataframe.\n",
    "combined_df = pd.concat([yelp_chinatown, yelp_greektown, yelp_rivernorth])"
   ]
  },
  {
   "cell_type": "code",
   "execution_count": 15,
   "metadata": {},
   "outputs": [
    {
     "data": {
      "text/html": [
       "<div>\n",
       "<style scoped>\n",
       "    .dataframe tbody tr th:only-of-type {\n",
       "        vertical-align: middle;\n",
       "    }\n",
       "\n",
       "    .dataframe tbody tr th {\n",
       "        vertical-align: top;\n",
       "    }\n",
       "\n",
       "    .dataframe thead th {\n",
       "        text-align: right;\n",
       "    }\n",
       "</style>\n",
       "<table border=\"1\" class=\"dataframe\">\n",
       "  <thead>\n",
       "    <tr style=\"text-align: right;\">\n",
       "      <th></th>\n",
       "      <th>address</th>\n",
       "      <th>category</th>\n",
       "      <th>name</th>\n",
       "      <th>neighborhood</th>\n",
       "      <th>phone</th>\n",
       "      <th>photo_url</th>\n",
       "      <th>price</th>\n",
       "      <th>rating</th>\n",
       "      <th>reviews</th>\n",
       "      <th>num_price</th>\n",
       "      <th>search_area</th>\n",
       "    </tr>\n",
       "  </thead>\n",
       "  <tbody>\n",
       "    <tr>\n",
       "      <th>0</th>\n",
       "      <td>2222 S Archer Ave</td>\n",
       "      <td>DimSum,Bars,Seafood</td>\n",
       "      <td>Dolo Restaurant and Bar</td>\n",
       "      <td>Chinatown</td>\n",
       "      <td>(312) 877-5117</td>\n",
       "      <td>https://s3-media1.fl.yelpcdn.com/bphoto/jk86Qt...</td>\n",
       "      <td>$$</td>\n",
       "      <td>4.0</td>\n",
       "      <td>371</td>\n",
       "      <td>2</td>\n",
       "      <td>Chinatown</td>\n",
       "    </tr>\n",
       "    <tr>\n",
       "      <th>1</th>\n",
       "      <td>2168 S Archer Ave</td>\n",
       "      <td>Seafood,DimSum,Cantonese</td>\n",
       "      <td>MingHin Cuisine</td>\n",
       "      <td>Chinatown</td>\n",
       "      <td>(312) 808-1999</td>\n",
       "      <td>https://s3-media3.fl.yelpcdn.com/bphoto/tJlRSu...</td>\n",
       "      <td>$$</td>\n",
       "      <td>4.0</td>\n",
       "      <td>1869</td>\n",
       "      <td>2</td>\n",
       "      <td>Chinatown</td>\n",
       "    </tr>\n",
       "    <tr>\n",
       "      <th>2</th>\n",
       "      <td>2002 S Wentworth Ave</td>\n",
       "      <td>Chinese,Barbeque</td>\n",
       "      <td>Qing Xiang Yuan Dumplings</td>\n",
       "      <td>Chinatown</td>\n",
       "      <td>(312) 799-1118</td>\n",
       "      <td>https://s3-media3.fl.yelpcdn.com/bphoto/d0I1bE...</td>\n",
       "      <td>$$</td>\n",
       "      <td>4.0</td>\n",
       "      <td>614</td>\n",
       "      <td>2</td>\n",
       "      <td>Chinatown</td>\n",
       "    </tr>\n",
       "    <tr>\n",
       "      <th>3</th>\n",
       "      <td>2138 South Archer Ave</td>\n",
       "      <td>Chinese</td>\n",
       "      <td>MCCB Chicago 时尚食谱</td>\n",
       "      <td>Chinatown</td>\n",
       "      <td>(312) 881-0168</td>\n",
       "      <td>https://s3-media2.fl.yelpcdn.com/bphoto/Jnmu_r...</td>\n",
       "      <td>$$</td>\n",
       "      <td>4.5</td>\n",
       "      <td>139</td>\n",
       "      <td>2</td>\n",
       "      <td>Chinatown</td>\n",
       "    </tr>\n",
       "    <tr>\n",
       "      <th>4</th>\n",
       "      <td>243 W Cermak Rd</td>\n",
       "      <td>Szechuan</td>\n",
       "      <td>Szechwan JMC</td>\n",
       "      <td>Chinatown</td>\n",
       "      <td>(312) 929-2212</td>\n",
       "      <td>https://s3-media3.fl.yelpcdn.com/bphoto/MByW_k...</td>\n",
       "      <td>$$</td>\n",
       "      <td>4.5</td>\n",
       "      <td>23</td>\n",
       "      <td>2</td>\n",
       "      <td>Chinatown</td>\n",
       "    </tr>\n",
       "  </tbody>\n",
       "</table>\n",
       "</div>"
      ],
      "text/plain": [
       "                 address                  category                       name  \\\n",
       "0      2222 S Archer Ave       DimSum,Bars,Seafood    Dolo Restaurant and Bar   \n",
       "1      2168 S Archer Ave  Seafood,DimSum,Cantonese            MingHin Cuisine   \n",
       "2   2002 S Wentworth Ave          Chinese,Barbeque  Qing Xiang Yuan Dumplings   \n",
       "3  2138 South Archer Ave                   Chinese          MCCB Chicago 时尚食谱   \n",
       "4        243 W Cermak Rd                  Szechuan               Szechwan JMC   \n",
       "\n",
       "  neighborhood           phone  \\\n",
       "0    Chinatown  (312) 877-5117   \n",
       "1    Chinatown  (312) 808-1999   \n",
       "2    Chinatown  (312) 799-1118   \n",
       "3    Chinatown  (312) 881-0168   \n",
       "4    Chinatown  (312) 929-2212   \n",
       "\n",
       "                                           photo_url price rating reviews  \\\n",
       "0  https://s3-media1.fl.yelpcdn.com/bphoto/jk86Qt...    $$    4.0     371   \n",
       "1  https://s3-media3.fl.yelpcdn.com/bphoto/tJlRSu...    $$    4.0    1869   \n",
       "2  https://s3-media3.fl.yelpcdn.com/bphoto/d0I1bE...    $$    4.0     614   \n",
       "3  https://s3-media2.fl.yelpcdn.com/bphoto/Jnmu_r...    $$    4.5     139   \n",
       "4  https://s3-media3.fl.yelpcdn.com/bphoto/MByW_k...    $$    4.5      23   \n",
       "\n",
       "   num_price search_area  \n",
       "0          2   Chinatown  \n",
       "1          2   Chinatown  \n",
       "2          2   Chinatown  \n",
       "3          2   Chinatown  \n",
       "4          2   Chinatown  "
      ]
     },
     "execution_count": 15,
     "metadata": {},
     "output_type": "execute_result"
    }
   ],
   "source": [
    "combined_df.head()"
   ]
  },
  {
   "cell_type": "code",
   "execution_count": 16,
   "metadata": {},
   "outputs": [
    {
     "name": "stdout",
     "output_type": "stream",
     "text": [
      "<class 'pandas.core.frame.DataFrame'>\n",
      "Int64Index: 140 entries, 0 to 59\n",
      "Data columns (total 11 columns):\n",
      "address         140 non-null object\n",
      "category        140 non-null object\n",
      "name            140 non-null object\n",
      "neighborhood    140 non-null object\n",
      "phone           140 non-null object\n",
      "photo_url       140 non-null object\n",
      "price           140 non-null object\n",
      "rating          140 non-null object\n",
      "reviews         140 non-null object\n",
      "num_price       140 non-null int64\n",
      "search_area     140 non-null object\n",
      "dtypes: int64(1), object(10)\n",
      "memory usage: 13.1+ KB\n"
     ]
    }
   ],
   "source": [
    "combined_df.info()"
   ]
  },
  {
   "cell_type": "code",
   "execution_count": 17,
   "metadata": {},
   "outputs": [],
   "source": [
    "# Convert a couple of the fields to a numeric type\n",
    "combined_df['reviews'] = pd.to_numeric(combined_df['reviews'])\n",
    "combined_df['rating'] = pd.to_numeric(combined_df['rating'])"
   ]
  },
  {
   "cell_type": "code",
   "execution_count": 18,
   "metadata": {},
   "outputs": [
    {
     "data": {
      "text/plain": [
       "<BarContainer object of 140 artists>"
      ]
     },
     "execution_count": 18,
     "metadata": {},
     "output_type": "execute_result"
    },
    {
     "data": {
      "image/png": "[encoded data removed]",
      "text/plain": [
       "<Figure size 432x288 with 1 Axes>"
      ]
     },
     "metadata": {
      "needs_background": "light"
     },
     "output_type": "display_data"
    }
   ],
   "source": [
    "# Create a bar chart of the total number of reviews of the top 30 restaurants of the neighborhoods.\n",
    "# Notice that the number of reviews in Chinatown is much lower than the other neighborhoods.\n",
    "plt.bar(combined_df['search_area'],combined_df['reviews'])"
   ]
  },
  {
   "cell_type": "code",
   "execution_count": 19,
   "metadata": {},
   "outputs": [
    {
     "data": {
      "text/plain": [
       "([<matplotlib.axis.YTick at 0x1af2818beb8>,\n",
       "  <matplotlib.axis.YTick at 0x1af2818b630>,\n",
       "  <matplotlib.axis.YTick at 0x1af2818d588>,\n",
       "  <matplotlib.axis.YTick at 0x1af281f49e8>,\n",
       "  <matplotlib.axis.YTick at 0x1af281e30b8>,\n",
       "  <matplotlib.axis.YTick at 0x1af281e3518>,\n",
       "  <matplotlib.axis.YTick at 0x1af281e39e8>],\n",
       " <a list of 7 Text yticklabel objects>)"
      ]
     },
     "execution_count": 19,
     "metadata": {},
     "output_type": "execute_result"
    },
    {
     "data": {
      "image/png": "[encoded data removed]",
      "text/plain": [
       "<Figure size 432x288 with 1 Axes>"
      ]
     },
     "metadata": {
      "needs_background": "light"
     },
     "output_type": "display_data"
    }
   ],
   "source": [
    "# Let's look at the average rating for each neighborhood.\n",
    "# Restaurants in the loop tend to have a higher average rating.\n",
    "fig, ax = plt.subplots()\n",
    "\n",
    "avg_rating_by_area = combined_df.groupby(['search_area'])['rating'].mean().reset_index()\n",
    "\n",
    "y = np.linspace(3.7, 4.5, 7)\n",
    "ax.set_ylim(min(y), max(y))\n",
    "\n",
    "plt.bar(avg_rating_by_area['search_area'], avg_rating_by_area['rating'])\n",
    "plt.yticks(y)\n"
   ]
  }
 ],
 "metadata": {
  "kernelspec": {
   "display_name": "Python 3",
   "language": "python",
   "name": "python3"
  },
  "language_info": {
   "codemirror_mode": {
    "name": "ipython",
    "version": 3
   },
   "file_extension": ".py",
   "mimetype": "text/x-python",
   "name": "python",
   "nbconvert_exporter": "python",
   "pygments_lexer": "ipython3",
   "version": "3.7.1"
  }
 },
 "nbformat": 4,
 "nbformat_minor": 1
}
