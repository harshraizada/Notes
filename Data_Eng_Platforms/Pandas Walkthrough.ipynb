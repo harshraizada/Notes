{
 "cells": [
  {
   "cell_type": "markdown",
   "metadata": {},
   "source": [
    "# Data Engineering Platforms - Session 1\n",
    "\n",
    "## Python - Pandas Walkthrough"
   ]
  },
  {
   "cell_type": "markdown",
   "metadata": {},
   "source": [
    "Python's main data package is Pandas. Pandas is built on top of Python's numerical package, NumPy. These two packages are essential when calculating, manipulating, and merging data. Specifically, Pandas is the foundation that we will use to perform the majority of our tasks when working with data. But before we get into that, let's go over some Python basics."
   ]
  },
  {
   "cell_type": "markdown",
   "metadata": {},
   "source": [
    "## <font color = blue>Python Basics</font>\n",
    "\n",
    "### <font color = blue>Python Data Structures and Indexing</font>"
   ]
  },
  {
   "cell_type": "markdown",
   "metadata": {},
   "source": [
    "What are the main Python Data Types/Structures?    \n",
    "\n",
    "Python has 6 data types:      \n",
    "1. Numbers   \n",
    "    a. Int        a = 10    \n",
    "    b. Float      a = 10.54 (.) floating point real values      \n",
    "    c. Long       a = 200L (L)  Long integers; can be represented as ictal & hexadecimal      \n",
    "    d. Complex    a = 3.14(J)   Contains integer in the range of 0 - 255    \n",
    "2. String         'Hello World'    \n",
    "3. Boolean        True or False   \n",
    "4. List           [1,4,5,6,7]    \n",
    "5. Tuple          (1,5,6,7,8,9)    \n",
    "6. Dictionary     {'Illinois': 'Springfield', 'California': 'Sacramento', 'Texas': 'Austin'}    \n",
    "\n",
    "The main data structures are 4-6 above and great documentation can be found [here](https://docs.python.org/2/tutorial/datastructures.html)"
   ]
  },
  {
   "cell_type": "markdown",
   "metadata": {},
   "source": [
    "### Indexing    \n",
    "\n",
    "Basic Indexing is a way to select rows, items of data in your list, string, dictionary, etc.   \n",
    "\n",
    "**Python indexing is zero based, meaning the first element is indexted at 0.**"
   ]
  },
  {
   "cell_type": "code",
   "execution_count": 2,
   "metadata": {},
   "outputs": [],
   "source": [
    "# A sample list and string\n",
    "fruit_list = ['Apple','Orange','Banana','Grapefruit','Mango','Pear','Kiwi','Pineapple','Grapes']\n",
    "\n",
    "string1 = 'Good morning'"
   ]
  },
  {
   "cell_type": "code",
   "execution_count": 3,
   "metadata": {},
   "outputs": [
    {
     "name": "stdout",
     "output_type": "stream",
     "text": [
      "Apple\n",
      "Banana\n",
      "Grapes\n",
      "G\n",
      "o\n"
     ]
    }
   ],
   "source": [
    "## To index the first element, type the name of the variable, followed by square brackets. Within square brackets is where\n",
    "## to enter the index. The first element is 0. To index the 2nd element, use 1, and so on.\n",
    "## Indexing a string will find the letter/character  in a similar manner\n",
    "## Using a negative index will work backwards, starting from the end of the data sctructure, ie -1 will return the last \n",
    "## element. \n",
    "\n",
    "# Print the first element of fruit_list.\n",
    "print(fruit_list[0])\n",
    "# Print the third element of fruit_list.\n",
    "print(fruit_list[2])\n",
    "# Print the last element of fruit_list.\n",
    "print(fruit_list[-1])\n",
    "\n",
    "# Print the first character of string1\n",
    "print(string1[0])\n",
    "# Print the seventh character of string1\n",
    "print(string1[6])"
   ]
  },
  {
   "cell_type": "markdown",
   "metadata": {},
   "source": [
    "#### The above example returns a single value when indexing. Using the colon ':' allows you to slice the list/string to return multiple values."
   ]
  },
  {
   "cell_type": "markdown",
   "metadata": {},
   "source": [
    "<font color= green>***When slicing, if you leave the left side of the colon blank, it will default to the beginning of the data structure. Similarly, when leaving the right side of the colon blank, it will return everything until the end of the data structure.  Lastly, the right side of the colon will include up to but NOT including that index.***\n",
    "</font>   \n",
    "\n",
    "Here are some examples:"
   ]
  },
  {
   "cell_type": "code",
   "execution_count": 4,
   "metadata": {},
   "outputs": [
    {
     "name": "stdout",
     "output_type": "stream",
     "text": [
      "['Apple', 'Orange', 'Banana']\n",
      "['Banana', 'Grapefruit', 'Mango', 'Pear', 'Kiwi', 'Pineapple', 'Grapes']\n",
      "Good\n",
      "morning\n"
     ]
    }
   ],
   "source": [
    "# Return the first three elements in fruit_list\n",
    "print(fruit_list[:3]) # or fruit_list[0:4]\n",
    "\n",
    "# Return all the elements except the first 2\n",
    "print(fruit_list[2:])\n",
    "\n",
    " \n",
    "# Return the first 4 characters in string1\n",
    "print(string1[0:4])\n",
    "\n",
    "# Return all the elements except the first 5 in string1\n",
    "print(string1[5:])"
   ]
  },
  {
   "cell_type": "markdown",
   "metadata": {},
   "source": [
    "### Advanced Indexing will be covered later when we start working with the Pandas package"
   ]
  },
  {
   "cell_type": "markdown",
   "metadata": {},
   "source": [
    "Below are some exercises for you to try"
   ]
  },
  {
   "cell_type": "code",
   "execution_count": 12,
   "metadata": {},
   "outputs": [
    {
     "name": "stdout",
     "output_type": "stream",
     "text": [
      "14\n",
      "[1, 2, 3, 5, 8, 6]\n",
      "[5, 8]\n",
      "18\n",
      "[98, 65, 32, 7, 18]\n",
      "I\n",
      "f you\n",
      "fail.\n"
     ]
    }
   ],
   "source": [
    "List1 = [1,2,3,5,8,6,78,25,14,98,65,32,7,18]\n",
    "\n",
    "string2 = 'If you fail to prepare, prepare to fail.'\n",
    "\n",
    "# Return the 7th element(8th index)\n",
    "print(List1[8])\n",
    "\n",
    "# Index the first 5 elements\n",
    "print(List1[0:6])\n",
    "\n",
    "# Return the 4th and 5th element.\n",
    "print(List1[3:5])\n",
    "\n",
    "# Use negative index to return the last element in list\n",
    "print(List1[-1])\n",
    "\n",
    "# Use negative index to return the last 5 elements\n",
    "print(List1[-5:])\n",
    "\n",
    "# Return 1st letter in string2\n",
    "print(string2[0])\n",
    "\n",
    "# Return letters indexed at 1:6\n",
    "print(string2[1:6])\n",
    "\n",
    "# Return last 5 characters\n",
    "print(string2[-5:])"
   ]
  },
  {
   "cell_type": "markdown",
   "metadata": {},
   "source": [
    "**Conditionals - if, else**"
   ]
  },
  {
   "cell_type": "code",
   "execution_count": 7,
   "metadata": {},
   "outputs": [
    {
     "name": "stdout",
     "output_type": "stream",
     "text": [
      "more than 15\n"
     ]
    }
   ],
   "source": [
    "# Conditional example\n",
    "\n",
    "cond_list = [1,3,4,6,4]\n",
    "if sum(cond_list) < 15:\n",
    "    print(\"Less than 15\")\n",
    "else:\n",
    "    print(\"more than 15\")"
   ]
  },
  {
   "cell_type": "markdown",
   "metadata": {},
   "source": [
    "**Looping. What is the difference between a for loop and a while loop?**\n",
    "\n",
    "A for loop will loop through until all the elements in the given data structure are exhausted. \n",
    "\n",
    "A while loop will keep looping until a condition is met.  ** *Take special care when using a while loop. If not properly done, you can create an infinite loop. **"
   ]
  },
  {
   "cell_type": "code",
   "execution_count": 9,
   "metadata": {},
   "outputs": [
    {
     "name": "stdout",
     "output_type": "stream",
     "text": [
      "Pear\n",
      "Kiwi\n"
     ]
    }
   ],
   "source": [
    "# For loop example\n",
    "for fruit in fruit_list:\n",
    "    if len(fruit) < 5:\n",
    "        print(fruit)"
   ]
  },
  {
   "cell_type": "code",
   "execution_count": 10,
   "metadata": {},
   "outputs": [
    {
     "name": "stdout",
     "output_type": "stream",
     "text": [
      "Count is at 0\n",
      "Count is at 1\n",
      "Count is at 2\n",
      "Count is at 3\n",
      "Count is at 4\n",
      "Count is at 5\n",
      "Count is at 6\n",
      "Count is at 7\n",
      "Count is at 8\n",
      "Count is at 9\n"
     ]
    }
   ],
   "source": [
    "# While loop example\n",
    "count = 0\n",
    "\n",
    "while count < 10:\n",
    "    print(\"Count is at %d\" %count)\n",
    "    count +=1"
   ]
  },
  {
   "cell_type": "markdown",
   "metadata": {},
   "source": [
    "**List Comprehensions**   \n",
    "\n",
    "When doing any type of data analytic, you often find yourself wanting to either read a list, filter a list, find values within a list, removing white space from a list, or most notably, create a new list from another list. Keep in mind, when I use 'list', a column of data could be considered a list. One of the most efficient ways of doing anything I just mentioned, is to use a list comprehension.  In short, a list comprehension is a quick line of code that is essentially a for loop. \n",
    "\n",
    "Let's look at a few examples to illustrate the power of list comprehensions."
   ]
  },
  {
   "cell_type": "code",
   "execution_count": 13,
   "metadata": {},
   "outputs": [
    {
     "data": {
      "text/plain": [
       "[2, 4, 6, 10, 16, 12, 156, 50, 28, 196, 130, 64, 14, 36]"
      ]
     },
     "execution_count": 13,
     "metadata": {},
     "output_type": "execute_result"
    }
   ],
   "source": [
    "# Example using list1 above\n",
    "list_c = [n*2 for n in List1]\n",
    "list_c"
   ]
  },
  {
   "cell_type": "code",
   "execution_count": 14,
   "metadata": {},
   "outputs": [
    {
     "data": {
      "text/plain": [
       "[2, 4, 6, 10]"
      ]
     },
     "execution_count": 14,
     "metadata": {},
     "output_type": "execute_result"
    }
   ],
   "source": [
    "# List comprehenesion with a conditional\n",
    "list_c2 = [n*2 for n in List1 if n < 6]\n",
    "list_c2"
   ]
  },
  {
   "cell_type": "markdown",
   "metadata": {},
   "source": [
    "## <font color= blue>Functions</font>\n",
    "Before we get started on our topic of pandas(and some numPy), we'll go over a vital part of programming, user defined functions. User defined functions come in handy when you create code that will be repeatable. It would become very tedious to keep writing the same code over and over again to produce the same results. Some relevant use cases include cleaning a file on a regular basis, performing calculations, or automating a process.\n",
    "\n",
    "**User Defined Functions** syntax:\n",
    "\n",
    "To create a user defined function, first use the keyword 'def' followed by your function name (any name you define) followed by parameters(this is optional) ending with parentheses and a colon. Within this function start with your **docstring**, which is documentation on what your function performs, then next is your code, which should be indented. Typically, the end of the function should return or print something. \n",
    "\n",
    "def function_name():    \n",
    "&nbsp;&nbsp;&nbsp;&nbsp;your docstring     \n",
    "&nbsp;&nbsp;&nbsp;&nbsp;your code     \n",
    "&nbsp;&nbsp;&nbsp;&nbsp;return the output\n",
    "\n",
    "**Docstring** is contained within triple quotations marks and should be used to describe the function.\n",
    "\n",
    "The following are some examples."
   ]
  },
  {
   "cell_type": "code",
   "execution_count": 15,
   "metadata": {},
   "outputs": [],
   "source": [
    "# Very simple example of returning the multiplication of two numbers\n",
    "def multiply_by(x,y): # 'x' & 'y' are just user defined variables\n",
    "    \"\"\" Function will multiply two given numbers\"\"\"\n",
    "    return x*y\n",
    "\n",
    "### Note, Placement matters within the arguments. Since x is first, the value assigned in that parameter will\n",
    "### correspond to 'x'."
   ]
  },
  {
   "cell_type": "code",
   "execution_count": 16,
   "metadata": {},
   "outputs": [
    {
     "data": {
      "text/plain": [
       "15"
      ]
     },
     "execution_count": 16,
     "metadata": {},
     "output_type": "execute_result"
    }
   ],
   "source": [
    "# Use the mulitply_by function\n",
    "\n",
    "multiply_by(5,3) # This will return the product of 5 and 3\n",
    "\n",
    "# Common practice is you can save the value of this function into another variable for use later. "
   ]
  },
  {
   "cell_type": "code",
   "execution_count": null,
   "metadata": {},
   "outputs": [],
   "source": [
    "# Print the docstring\n",
    "help(multiply_by)"
   ]
  },
  {
   "cell_type": "code",
   "execution_count": 17,
   "metadata": {},
   "outputs": [],
   "source": [
    "# Though the vast majority of times you would use parameters, it's not required. Here's another example\n",
    "# In this example, I'll be utilizing a pandas package, so I'll need to import the package\n",
    "\n",
    "import pandas as pd\n",
    "\n",
    "fruit_series = pd.Series(['Apple', 'Orange', 'Banana', 'Grapefruit', 'Mango', 'Pear', 'Pineapple', 'Kiwi', 'Grapes'])\n",
    "\n",
    "def random_fruit():\n",
    "    \"\"\"\n",
    "    Function uses the pandas 'sample' function which\n",
    "    will randomly select a fruit from the list.\n",
    "    \"\"\"\n",
    "    return fruit_series.sample(1)"
   ]
  },
  {
   "cell_type": "code",
   "execution_count": 18,
   "metadata": {},
   "outputs": [
    {
     "data": {
      "text/plain": [
       "5    Pear\n",
       "dtype: object"
      ]
     },
     "execution_count": 18,
     "metadata": {},
     "output_type": "execute_result"
    }
   ],
   "source": [
    "# This function will randomly return a fruit from the fruit_series.\n",
    "\n",
    "random_fruit()"
   ]
  },
  {
   "cell_type": "code",
   "execution_count": 19,
   "metadata": {},
   "outputs": [],
   "source": [
    "# We can also specify default value(s) for one of the arguments within the function.\n",
    "\n",
    "def n_root(x, y = 2):  # If we don't specify the 'y' value, it defaults to 2.\n",
    "    \"\"\"\n",
    "    Function will take the nth root of x.\n",
    "    The default is 2, which will square x.\n",
    "    \"\"\"\n",
    "    return x**y"
   ]
  },
  {
   "cell_type": "code",
   "execution_count": 20,
   "metadata": {},
   "outputs": [
    {
     "data": {
      "text/plain": [
       "25"
      ]
     },
     "execution_count": 20,
     "metadata": {},
     "output_type": "execute_result"
    }
   ],
   "source": [
    "n_root(5)"
   ]
  },
  {
   "cell_type": "code",
   "execution_count": 21,
   "metadata": {},
   "outputs": [
    {
     "data": {
      "text/plain": [
       "32"
      ]
     },
     "execution_count": 21,
     "metadata": {},
     "output_type": "execute_result"
    }
   ],
   "source": [
    "n_root(2,5)"
   ]
  },
  {
   "cell_type": "code",
   "execution_count": 22,
   "metadata": {},
   "outputs": [
    {
     "data": {
      "text/plain": [
       "125"
      ]
     },
     "execution_count": 22,
     "metadata": {},
     "output_type": "execute_result"
    }
   ],
   "source": [
    "# You can also specify within the arguments which value corresponds to the respective variable\n",
    "n_root(y=3, x=5)"
   ]
  },
  {
   "cell_type": "markdown",
   "metadata": {},
   "source": [
    "## Now that we are caught up and went over user defined functions, let's move on with pandas."
   ]
  },
  {
   "cell_type": "markdown",
   "metadata": {},
   "source": [
    "## <font color= blue>Pandas</font>\n",
    "\n",
    "**Pandas** is probably the most widely used packages in python, especially for data analytics. It provides fast, flexible, and is designed to make working with relational/labeled data easy and intuitive. There are two types of data structures in pandas, a Series (1-dimensional, think a single column) & DataFrame(2-dimensional, think tabular data). There's a ton that pandas can do, all of which we won't have the time to go over, but here is a link to some highlights: [pandas](https://pandas.pydata.org/pandas-docs/stable/).\n",
    "\n",
    "Furthermore, pandas is the data structure of choice when working with other packages in the data science and advanced analytics enviromnent.\n",
    "\n",
    "Pandas is not only great at wrangling/munging and other handling of data, but it's also highly optimized to do calculations and other statitical operations. This is because pandas is built on NumPy, which is the numerical package for Python. \n",
    "\n",
    "Now that we have a high level view of pandas, let's get started on using it."
   ]
  },
  {
   "cell_type": "markdown",
   "metadata": {},
   "source": [
    "### <font color= green>Importing Data</font>\n",
    "\n",
    "Python offers other ways to import data through various files. However, as a data analytics team, it's ideal if we can put the data into a pandas dataframe.\n",
    "\n",
    "Pandas can import different file types, such as csv, excel, text, json, even sas files. Let's dive into a few examples. We even did so working on the complaint data earlier.\n",
    "\n",
    "The other types of files pandas can import, click [here](https://pandas.pydata.org/pandas-docs/stable/io.html)"
   ]
  },
  {
   "cell_type": "code",
   "execution_count": 4,
   "metadata": {},
   "outputs": [],
   "source": [
    "# When working with pandas, first import the pandas package and save it as pd(this is standard convention).\n",
    "\n",
    "# Let's start with an excel file. The great thing about using pandas to read excel, you can choose which tab or sheet\n",
    "# to import (if applicable).\n",
    "\n",
    "# Let's import the movies.xls data set.  This data has three tabs, each are movies in different decades. \n",
    "\n",
    "# In this example, we're going to import just the file using the default values for the parameters\n",
    "import pandas as pd\n",
    "movie_df = pd.read_excel(\"movies.xls\")\n",
    "\n",
    "# What the below does is ensures we return a float rather than a scientific notation\n",
    "pd.set_option('display.float_format', lambda x: '%.2f' % x)"
   ]
  },
  {
   "cell_type": "code",
   "execution_count": 5,
   "metadata": {},
   "outputs": [
    {
     "data": {
      "text/html": [
       "<div>\n",
       "<style scoped>\n",
       "    .dataframe tbody tr th:only-of-type {\n",
       "        vertical-align: middle;\n",
       "    }\n",
       "\n",
       "    .dataframe tbody tr th {\n",
       "        vertical-align: top;\n",
       "    }\n",
       "\n",
       "    .dataframe thead th {\n",
       "        text-align: right;\n",
       "    }\n",
       "</style>\n",
       "<table border=\"1\" class=\"dataframe\">\n",
       "  <thead>\n",
       "    <tr style=\"text-align: right;\">\n",
       "      <th></th>\n",
       "      <th>Title</th>\n",
       "      <th>Year</th>\n",
       "      <th>Genres</th>\n",
       "      <th>Language</th>\n",
       "      <th>Country</th>\n",
       "      <th>Content Rating</th>\n",
       "      <th>Duration</th>\n",
       "      <th>Aspect Ratio</th>\n",
       "      <th>Budget</th>\n",
       "      <th>Gross Earnings</th>\n",
       "      <th>...</th>\n",
       "      <th>Facebook Likes - Actor 1</th>\n",
       "      <th>Facebook Likes - Actor 2</th>\n",
       "      <th>Facebook Likes - Actor 3</th>\n",
       "      <th>Facebook Likes - cast Total</th>\n",
       "      <th>Facebook likes - Movie</th>\n",
       "      <th>Facenumber in posters</th>\n",
       "      <th>User Votes</th>\n",
       "      <th>Reviews by Users</th>\n",
       "      <th>Reviews by Crtiics</th>\n",
       "      <th>IMDB Score</th>\n",
       "    </tr>\n",
       "  </thead>\n",
       "  <tbody>\n",
       "    <tr>\n",
       "      <th>0</th>\n",
       "      <td>Intolerance: Love's Struggle Throughout the Ages</td>\n",
       "      <td>1916</td>\n",
       "      <td>Drama|History|War</td>\n",
       "      <td>NaN</td>\n",
       "      <td>USA</td>\n",
       "      <td>Not Rated</td>\n",
       "      <td>123</td>\n",
       "      <td>1.33</td>\n",
       "      <td>385907.00</td>\n",
       "      <td>nan</td>\n",
       "      <td>...</td>\n",
       "      <td>436</td>\n",
       "      <td>22</td>\n",
       "      <td>9.00</td>\n",
       "      <td>481</td>\n",
       "      <td>691</td>\n",
       "      <td>1</td>\n",
       "      <td>10718</td>\n",
       "      <td>88</td>\n",
       "      <td>69.00</td>\n",
       "      <td>8.00</td>\n",
       "    </tr>\n",
       "    <tr>\n",
       "      <th>1</th>\n",
       "      <td>Over the Hill to the Poorhouse</td>\n",
       "      <td>1920</td>\n",
       "      <td>Crime|Drama</td>\n",
       "      <td>NaN</td>\n",
       "      <td>USA</td>\n",
       "      <td>NaN</td>\n",
       "      <td>110</td>\n",
       "      <td>1.33</td>\n",
       "      <td>100000.00</td>\n",
       "      <td>3000000.00</td>\n",
       "      <td>...</td>\n",
       "      <td>2</td>\n",
       "      <td>2</td>\n",
       "      <td>0.00</td>\n",
       "      <td>4</td>\n",
       "      <td>0</td>\n",
       "      <td>1</td>\n",
       "      <td>5</td>\n",
       "      <td>1</td>\n",
       "      <td>1.00</td>\n",
       "      <td>4.80</td>\n",
       "    </tr>\n",
       "    <tr>\n",
       "      <th>2</th>\n",
       "      <td>The Big Parade</td>\n",
       "      <td>1925</td>\n",
       "      <td>Drama|Romance|War</td>\n",
       "      <td>NaN</td>\n",
       "      <td>USA</td>\n",
       "      <td>Not Rated</td>\n",
       "      <td>151</td>\n",
       "      <td>1.33</td>\n",
       "      <td>245000.00</td>\n",
       "      <td>nan</td>\n",
       "      <td>...</td>\n",
       "      <td>81</td>\n",
       "      <td>12</td>\n",
       "      <td>6.00</td>\n",
       "      <td>108</td>\n",
       "      <td>226</td>\n",
       "      <td>0</td>\n",
       "      <td>4849</td>\n",
       "      <td>45</td>\n",
       "      <td>48.00</td>\n",
       "      <td>8.30</td>\n",
       "    </tr>\n",
       "  </tbody>\n",
       "</table>\n",
       "<p>3 rows × 25 columns</p>\n",
       "</div>"
      ],
      "text/plain": [
       "                                               Title  Year             Genres  \\\n",
       "0  Intolerance: Love's Struggle Throughout the Ages   1916  Drama|History|War   \n",
       "1                    Over the Hill to the Poorhouse   1920        Crime|Drama   \n",
       "2                                    The Big Parade   1925  Drama|Romance|War   \n",
       "\n",
       "  Language Country Content Rating  Duration  Aspect Ratio    Budget  \\\n",
       "0      NaN     USA      Not Rated       123          1.33 385907.00   \n",
       "1      NaN     USA            NaN       110          1.33 100000.00   \n",
       "2      NaN     USA      Not Rated       151          1.33 245000.00   \n",
       "\n",
       "   Gross Earnings     ...     Facebook Likes - Actor 1  \\\n",
       "0             nan     ...                          436   \n",
       "1      3000000.00     ...                            2   \n",
       "2             nan     ...                           81   \n",
       "\n",
       "  Facebook Likes - Actor 2 Facebook Likes - Actor 3  \\\n",
       "0                       22                     9.00   \n",
       "1                        2                     0.00   \n",
       "2                       12                     6.00   \n",
       "\n",
       "  Facebook Likes - cast Total  Facebook likes - Movie  Facenumber in posters  \\\n",
       "0                         481                     691                      1   \n",
       "1                           4                       0                      1   \n",
       "2                         108                     226                      0   \n",
       "\n",
       "   User Votes  Reviews by Users  Reviews by Crtiics  IMDB Score  \n",
       "0       10718                88               69.00        8.00  \n",
       "1           5                 1                1.00        4.80  \n",
       "2        4849                45               48.00        8.30  \n",
       "\n",
       "[3 rows x 25 columns]"
      ]
     },
     "execution_count": 5,
     "metadata": {},
     "output_type": "execute_result"
    }
   ],
   "source": [
    "# Here, only the first tab is used. pandas is smart enough to know that the first column is the header\n",
    "# If there are no headers, we can use the header argument and set it to None. \n",
    "movie_df.head(3)"
   ]
  },
  {
   "cell_type": "code",
   "execution_count": 6,
   "metadata": {},
   "outputs": [
    {
     "name": "stderr",
     "output_type": "stream",
     "text": [
      "/anaconda3/lib/python3.7/site-packages/pandas/io/excel.py:329: FutureWarning: The `sheetname` keyword is deprecated, use `sheet_name` instead\n",
      "  **kwds)\n"
     ]
    },
    {
     "data": {
      "text/html": [
       "<div>\n",
       "<style scoped>\n",
       "    .dataframe tbody tr th:only-of-type {\n",
       "        vertical-align: middle;\n",
       "    }\n",
       "\n",
       "    .dataframe tbody tr th {\n",
       "        vertical-align: top;\n",
       "    }\n",
       "\n",
       "    .dataframe thead th {\n",
       "        text-align: right;\n",
       "    }\n",
       "</style>\n",
       "<table border=\"1\" class=\"dataframe\">\n",
       "  <thead>\n",
       "    <tr style=\"text-align: right;\">\n",
       "      <th></th>\n",
       "      <th>Year</th>\n",
       "      <th>Genres</th>\n",
       "      <th>Language</th>\n",
       "      <th>Country</th>\n",
       "      <th>Content Rating</th>\n",
       "      <th>Duration</th>\n",
       "      <th>Aspect Ratio</th>\n",
       "      <th>Budget</th>\n",
       "      <th>Gross Earnings</th>\n",
       "      <th>Director</th>\n",
       "      <th>...</th>\n",
       "      <th>Facebook Likes - Actor 1</th>\n",
       "      <th>Facebook Likes - Actor 2</th>\n",
       "      <th>Facebook Likes - Actor 3</th>\n",
       "      <th>Facebook Likes - cast Total</th>\n",
       "      <th>Facebook likes - Movie</th>\n",
       "      <th>Facenumber in posters</th>\n",
       "      <th>User Votes</th>\n",
       "      <th>Reviews by Users</th>\n",
       "      <th>Reviews by Crtiics</th>\n",
       "      <th>IMDB Score</th>\n",
       "    </tr>\n",
       "    <tr>\n",
       "      <th>Title</th>\n",
       "      <th></th>\n",
       "      <th></th>\n",
       "      <th></th>\n",
       "      <th></th>\n",
       "      <th></th>\n",
       "      <th></th>\n",
       "      <th></th>\n",
       "      <th></th>\n",
       "      <th></th>\n",
       "      <th></th>\n",
       "      <th></th>\n",
       "      <th></th>\n",
       "      <th></th>\n",
       "      <th></th>\n",
       "      <th></th>\n",
       "      <th></th>\n",
       "      <th></th>\n",
       "      <th></th>\n",
       "      <th></th>\n",
       "      <th></th>\n",
       "      <th></th>\n",
       "    </tr>\n",
       "  </thead>\n",
       "  <tbody>\n",
       "    <tr>\n",
       "      <th>102 Dalmatians</th>\n",
       "      <td>2000</td>\n",
       "      <td>Adventure|Comedy|Family</td>\n",
       "      <td>English</td>\n",
       "      <td>USA</td>\n",
       "      <td>G</td>\n",
       "      <td>100.00</td>\n",
       "      <td>1.85</td>\n",
       "      <td>85000000.00</td>\n",
       "      <td>66941559.00</td>\n",
       "      <td>Kevin Lima</td>\n",
       "      <td>...</td>\n",
       "      <td>2000.00</td>\n",
       "      <td>795.00</td>\n",
       "      <td>439.00</td>\n",
       "      <td>4182</td>\n",
       "      <td>372</td>\n",
       "      <td>1</td>\n",
       "      <td>26413</td>\n",
       "      <td>77.00</td>\n",
       "      <td>84.00</td>\n",
       "      <td>4.80</td>\n",
       "    </tr>\n",
       "    <tr>\n",
       "      <th>28 Days</th>\n",
       "      <td>2000</td>\n",
       "      <td>Comedy|Drama</td>\n",
       "      <td>English</td>\n",
       "      <td>USA</td>\n",
       "      <td>PG-13</td>\n",
       "      <td>103.00</td>\n",
       "      <td>1.37</td>\n",
       "      <td>43000000.00</td>\n",
       "      <td>37035515.00</td>\n",
       "      <td>Betty Thomas</td>\n",
       "      <td>...</td>\n",
       "      <td>12000.00</td>\n",
       "      <td>10000.00</td>\n",
       "      <td>664.00</td>\n",
       "      <td>23864</td>\n",
       "      <td>0</td>\n",
       "      <td>1</td>\n",
       "      <td>34597</td>\n",
       "      <td>194.00</td>\n",
       "      <td>116.00</td>\n",
       "      <td>6.00</td>\n",
       "    </tr>\n",
       "    <tr>\n",
       "      <th>3 Strikes</th>\n",
       "      <td>2000</td>\n",
       "      <td>Comedy</td>\n",
       "      <td>English</td>\n",
       "      <td>USA</td>\n",
       "      <td>R</td>\n",
       "      <td>82.00</td>\n",
       "      <td>1.85</td>\n",
       "      <td>6000000.00</td>\n",
       "      <td>9821335.00</td>\n",
       "      <td>DJ Pooh</td>\n",
       "      <td>...</td>\n",
       "      <td>939.00</td>\n",
       "      <td>706.00</td>\n",
       "      <td>585.00</td>\n",
       "      <td>3354</td>\n",
       "      <td>118</td>\n",
       "      <td>1</td>\n",
       "      <td>1415</td>\n",
       "      <td>10.00</td>\n",
       "      <td>22.00</td>\n",
       "      <td>4.00</td>\n",
       "    </tr>\n",
       "  </tbody>\n",
       "</table>\n",
       "<p>3 rows × 24 columns</p>\n",
       "</div>"
      ],
      "text/plain": [
       "                 Year                   Genres Language Country  \\\n",
       "Title                                                             \n",
       "102 Dalmatians   2000  Adventure|Comedy|Family  English     USA   \n",
       "28 Days          2000             Comedy|Drama  English     USA   \n",
       "3 Strikes        2000                   Comedy  English     USA   \n",
       "\n",
       "                Content Rating  Duration  Aspect Ratio      Budget  \\\n",
       "Title                                                                \n",
       "102 Dalmatians               G    100.00          1.85 85000000.00   \n",
       "28 Days                  PG-13    103.00          1.37 43000000.00   \n",
       "3 Strikes                    R     82.00          1.85  6000000.00   \n",
       "\n",
       "                 Gross Earnings      Director     ...      \\\n",
       "Title                                             ...       \n",
       "102 Dalmatians      66941559.00    Kevin Lima     ...       \n",
       "28 Days             37035515.00  Betty Thomas     ...       \n",
       "3 Strikes            9821335.00       DJ Pooh     ...       \n",
       "\n",
       "                Facebook Likes - Actor 1 Facebook Likes - Actor 2  \\\n",
       "Title                                                               \n",
       "102 Dalmatians                   2000.00                   795.00   \n",
       "28 Days                         12000.00                 10000.00   \n",
       "3 Strikes                         939.00                   706.00   \n",
       "\n",
       "                Facebook Likes - Actor 3  Facebook Likes - cast Total  \\\n",
       "Title                                                                   \n",
       "102 Dalmatians                    439.00                         4182   \n",
       "28 Days                           664.00                        23864   \n",
       "3 Strikes                         585.00                         3354   \n",
       "\n",
       "                 Facebook likes - Movie  Facenumber in posters  User Votes  \\\n",
       "Title                                                                        \n",
       "102 Dalmatians                      372                      1       26413   \n",
       "28 Days                               0                      1       34597   \n",
       "3 Strikes                           118                      1        1415   \n",
       "\n",
       "                 Reviews by Users  Reviews by Crtiics  IMDB Score  \n",
       "Title                                                              \n",
       "102 Dalmatians              77.00               84.00        4.80  \n",
       "28 Days                    194.00              116.00        6.00  \n",
       "3 Strikes                   10.00               22.00        4.00  \n",
       "\n",
       "[3 rows x 24 columns]"
      ]
     },
     "execution_count": 6,
     "metadata": {},
     "output_type": "execute_result"
    }
   ],
   "source": [
    "# Let's say we want to see movies from the 2000's and want to make the index be the movie name instead of a number.\n",
    "movie_df = pd.read_excel(\"movies.xls\", sheetname = '2000s', index_col = 0 )\n",
    "movie_df.head(3)"
   ]
  },
  {
   "cell_type": "code",
   "execution_count": 7,
   "metadata": {},
   "outputs": [
    {
     "data": {
      "text/html": [
       "<div>\n",
       "<style scoped>\n",
       "    .dataframe tbody tr th:only-of-type {\n",
       "        vertical-align: middle;\n",
       "    }\n",
       "\n",
       "    .dataframe tbody tr th {\n",
       "        vertical-align: top;\n",
       "    }\n",
       "\n",
       "    .dataframe thead th {\n",
       "        text-align: right;\n",
       "    }\n",
       "</style>\n",
       "<table border=\"1\" class=\"dataframe\">\n",
       "  <thead>\n",
       "    <tr style=\"text-align: right;\">\n",
       "      <th></th>\n",
       "    </tr>\n",
       "  </thead>\n",
       "  <tbody>\n",
       "  </tbody>\n",
       "</table>\n",
       "</div>"
      ],
      "text/plain": [
       "Empty DataFrame\n",
       "Columns: []\n",
       "Index: []"
      ]
     },
     "execution_count": 7,
     "metadata": {},
     "output_type": "execute_result"
    }
   ],
   "source": [
    "# We'll get more into this later, but changing the index to a column (ie title) can make filtering and working with\n",
    "# your data much easier than using the default index of 0...n. \n",
    " \n",
    "# As you can see, we have 24 columns.  Let's say we don't need all this data and just want a few of the columns.\n",
    "# We can import that way as well. \n",
    "\n",
    "df_cols = ['Title', 'Year', 'Genres', 'Budget', 'Gross Earnings']\n",
    "movie_df = pd.read_excel(\"movies.xls\", sheetname = '2010s', index_col = 0, usecols = df_cols)\n",
    "movie_df.head(3)"
   ]
  },
  {
   "cell_type": "markdown",
   "metadata": {},
   "source": [
    "What if we want to combine all the sheets into one dataframe? \n",
    "\n",
    "pandas has a 'class' called ExcelFile that facilitates working with multiple sheets from a single excel file. It can then be parsed using the read_excel function."
   ]
  },
  {
   "cell_type": "code",
   "execution_count": 8,
   "metadata": {},
   "outputs": [
    {
     "data": {
      "text/plain": [
       "(5042, 25)"
      ]
     },
     "execution_count": 8,
     "metadata": {},
     "output_type": "execute_result"
    }
   ],
   "source": [
    "# Combining all the sheets/tabs of the excel file into one file\n",
    "\n",
    "xls = pd.ExcelFile(\"movies.xls\") # save the ExcelFile as a variable to then parse\n",
    "movies = [] # Initialize an empty list to store the data from each tab\n",
    "for sheet in xls.sheet_names:\n",
    "    movies.append(xls.parse(sheet))\n",
    "movie_df = pd.concat(movies)\n",
    "movie_df = movie_df.reset_index(drop=True)\n",
    "movie_df.shape"
   ]
  },
  {
   "cell_type": "markdown",
   "metadata": {},
   "source": [
    "### <font color= green>Indexing & Subsetting</font>\n",
    "\n",
    "Now that we know how to bring in data, it's important to understand indexing and slicing. This is useful if you're looking for data in specific ways. You can think about indexing and slicing as ways to filter the data. For instance, perhaps we want to only look at certain columns or rows, or perhaps look at data that has a certain balance or category.\n",
    "\n",
    "Pandas has two main ways to index it's data frame.    \n",
    "1.  The first way is with the iloc method. .iloc is primarily integer position based (from 0 to length-1 of the axis), but may also be used with a boolean array. \n",
    "\n",
    "2.  The other way is the loc method. .loc is primarily label based, but may also be used with a boolean array. .loc will raise KeyError when the items are not found.\n",
    "\n",
    "The documentation can be found [here](https://pandas.pydata.org/pandas-docs/stable/indexing.html).\n",
    "\n",
    "To use iloc or loc method of indexing, append the method after the dataframe followed by square brackets. Within the square brackets is where we index. \n",
    "\n",
    "Example:                \n",
    "df.iloc[row selection, column selection]   \n",
    "df.loc['row name/index name', 'column_name'] -> the index number can be used in place of the column name.\n",
    "\n",
    "Let's look at some of the ways to look at the data."
   ]
  },
  {
   "cell_type": "code",
   "execution_count": 9,
   "metadata": {},
   "outputs": [
    {
     "data": {
      "text/html": [
       "<div>\n",
       "<style scoped>\n",
       "    .dataframe tbody tr th:only-of-type {\n",
       "        vertical-align: middle;\n",
       "    }\n",
       "\n",
       "    .dataframe tbody tr th {\n",
       "        vertical-align: top;\n",
       "    }\n",
       "\n",
       "    .dataframe thead th {\n",
       "        text-align: right;\n",
       "    }\n",
       "</style>\n",
       "<table border=\"1\" class=\"dataframe\">\n",
       "  <thead>\n",
       "    <tr style=\"text-align: right;\">\n",
       "      <th></th>\n",
       "      <th>Title</th>\n",
       "      <th>Year</th>\n",
       "      <th>Genres</th>\n",
       "      <th>Language</th>\n",
       "      <th>Country</th>\n",
       "      <th>Content Rating</th>\n",
       "      <th>Duration</th>\n",
       "      <th>Aspect Ratio</th>\n",
       "      <th>Budget</th>\n",
       "      <th>Gross Earnings</th>\n",
       "      <th>...</th>\n",
       "      <th>Facebook Likes - Actor 1</th>\n",
       "      <th>Facebook Likes - Actor 2</th>\n",
       "      <th>Facebook Likes - Actor 3</th>\n",
       "      <th>Facebook Likes - cast Total</th>\n",
       "      <th>Facebook likes - Movie</th>\n",
       "      <th>Facenumber in posters</th>\n",
       "      <th>User Votes</th>\n",
       "      <th>Reviews by Users</th>\n",
       "      <th>Reviews by Crtiics</th>\n",
       "      <th>IMDB Score</th>\n",
       "    </tr>\n",
       "  </thead>\n",
       "  <tbody>\n",
       "    <tr>\n",
       "      <th>0</th>\n",
       "      <td>Intolerance: Love's Struggle Throughout the Ages</td>\n",
       "      <td>1916.00</td>\n",
       "      <td>Drama|History|War</td>\n",
       "      <td>NaN</td>\n",
       "      <td>USA</td>\n",
       "      <td>Not Rated</td>\n",
       "      <td>123.00</td>\n",
       "      <td>1.33</td>\n",
       "      <td>385907.00</td>\n",
       "      <td>nan</td>\n",
       "      <td>...</td>\n",
       "      <td>436.00</td>\n",
       "      <td>22.00</td>\n",
       "      <td>9.00</td>\n",
       "      <td>481</td>\n",
       "      <td>691</td>\n",
       "      <td>1.00</td>\n",
       "      <td>10718</td>\n",
       "      <td>88.00</td>\n",
       "      <td>69.00</td>\n",
       "      <td>8.00</td>\n",
       "    </tr>\n",
       "    <tr>\n",
       "      <th>1</th>\n",
       "      <td>Over the Hill to the Poorhouse</td>\n",
       "      <td>1920.00</td>\n",
       "      <td>Crime|Drama</td>\n",
       "      <td>NaN</td>\n",
       "      <td>USA</td>\n",
       "      <td>NaN</td>\n",
       "      <td>110.00</td>\n",
       "      <td>1.33</td>\n",
       "      <td>100000.00</td>\n",
       "      <td>3000000.00</td>\n",
       "      <td>...</td>\n",
       "      <td>2.00</td>\n",
       "      <td>2.00</td>\n",
       "      <td>0.00</td>\n",
       "      <td>4</td>\n",
       "      <td>0</td>\n",
       "      <td>1.00</td>\n",
       "      <td>5</td>\n",
       "      <td>1.00</td>\n",
       "      <td>1.00</td>\n",
       "      <td>4.80</td>\n",
       "    </tr>\n",
       "    <tr>\n",
       "      <th>2</th>\n",
       "      <td>The Big Parade</td>\n",
       "      <td>1925.00</td>\n",
       "      <td>Drama|Romance|War</td>\n",
       "      <td>NaN</td>\n",
       "      <td>USA</td>\n",
       "      <td>Not Rated</td>\n",
       "      <td>151.00</td>\n",
       "      <td>1.33</td>\n",
       "      <td>245000.00</td>\n",
       "      <td>nan</td>\n",
       "      <td>...</td>\n",
       "      <td>81.00</td>\n",
       "      <td>12.00</td>\n",
       "      <td>6.00</td>\n",
       "      <td>108</td>\n",
       "      <td>226</td>\n",
       "      <td>0.00</td>\n",
       "      <td>4849</td>\n",
       "      <td>45.00</td>\n",
       "      <td>48.00</td>\n",
       "      <td>8.30</td>\n",
       "    </tr>\n",
       "  </tbody>\n",
       "</table>\n",
       "<p>3 rows × 25 columns</p>\n",
       "</div>"
      ],
      "text/plain": [
       "                                               Title    Year  \\\n",
       "0  Intolerance: Love's Struggle Throughout the Ages  1916.00   \n",
       "1                    Over the Hill to the Poorhouse  1920.00   \n",
       "2                                    The Big Parade  1925.00   \n",
       "\n",
       "              Genres Language Country Content Rating  Duration  Aspect Ratio  \\\n",
       "0  Drama|History|War      NaN     USA      Not Rated    123.00          1.33   \n",
       "1        Crime|Drama      NaN     USA            NaN    110.00          1.33   \n",
       "2  Drama|Romance|War      NaN     USA      Not Rated    151.00          1.33   \n",
       "\n",
       "     Budget  Gross Earnings     ...     Facebook Likes - Actor 1  \\\n",
       "0 385907.00             nan     ...                       436.00   \n",
       "1 100000.00      3000000.00     ...                         2.00   \n",
       "2 245000.00             nan     ...                        81.00   \n",
       "\n",
       "  Facebook Likes - Actor 2 Facebook Likes - Actor 3  \\\n",
       "0                    22.00                     9.00   \n",
       "1                     2.00                     0.00   \n",
       "2                    12.00                     6.00   \n",
       "\n",
       "  Facebook Likes - cast Total  Facebook likes - Movie  Facenumber in posters  \\\n",
       "0                         481                     691                   1.00   \n",
       "1                           4                       0                   1.00   \n",
       "2                         108                     226                   0.00   \n",
       "\n",
       "   User Votes  Reviews by Users  Reviews by Crtiics  IMDB Score  \n",
       "0       10718             88.00               69.00        8.00  \n",
       "1           5              1.00                1.00        4.80  \n",
       "2        4849             45.00               48.00        8.30  \n",
       "\n",
       "[3 rows x 25 columns]"
      ]
     },
     "execution_count": 9,
     "metadata": {},
     "output_type": "execute_result"
    }
   ],
   "source": [
    "# In these examples to follow, let's look at the movie df that we created. \n",
    "movie_df.head(3)"
   ]
  },
  {
   "cell_type": "code",
   "execution_count": 10,
   "metadata": {},
   "outputs": [
    {
     "data": {
      "text/plain": [
       "45"
      ]
     },
     "execution_count": 10,
     "metadata": {},
     "output_type": "execute_result"
    }
   ],
   "source": [
    "# Before we move further, let's a quick quality check to see if there are duplicate rows\n",
    "movie_df.duplicated().sum()"
   ]
  },
  {
   "cell_type": "code",
   "execution_count": 11,
   "metadata": {},
   "outputs": [
    {
     "name": "stdout",
     "output_type": "stream",
     "text": [
      "0\n"
     ]
    }
   ],
   "source": [
    "# There are 45 duplicated rows. Let's just drop them\n",
    "\n",
    "movie_df.drop_duplicates(inplace=True)\n",
    "print(movie_df.duplicated().sum())\n",
    "movie_df.reset_index(drop=True, inplace = True)"
   ]
  },
  {
   "cell_type": "markdown",
   "metadata": {},
   "source": [
    "### Before we start using indexing, let's take a look at some of examples of subsetting the data. That is, using python coding to look at data in a different way. "
   ]
  },
  {
   "cell_type": "code",
   "execution_count": null,
   "metadata": {},
   "outputs": [],
   "source": [
    "# Let's look at the columns in this dataframe.. use the .columns method\n",
    "movie_df.columns"
   ]
  },
  {
   "cell_type": "code",
   "execution_count": null,
   "metadata": {},
   "outputs": [],
   "source": [
    "# To look at a single column, just use square brackets and add the column name in between quotes.\n",
    "# Let's look at a single column.  we'll add the .head() method to just look at the top 5 just to save space\n",
    "movie_df['Title'].head()  # This returns a pandas Series, which is just a single column.To view as dataframe, use double brackets\n",
    "                          # movie_df[['Title']].head()"
   ]
  },
  {
   "cell_type": "code",
   "execution_count": null,
   "metadata": {},
   "outputs": [],
   "source": [
    "# If you have column headers, like in this movie dataset, you can also just use the .column_name syntax\n",
    "movie_df.Title.head()"
   ]
  },
  {
   "cell_type": "code",
   "execution_count": null,
   "metadata": {},
   "outputs": [],
   "source": [
    "# What if we want to subset and look at movies titles that have a run time greater than or equal to 240 minutes?\n",
    "# Instead of just the column name in the bracket, add in the df name followed by column you want to filter.\n",
    "movie_df[movie_df['Duration']>=240]"
   ]
  },
  {
   "cell_type": "code",
   "execution_count": null,
   "metadata": {},
   "outputs": [],
   "source": [
    "# We can subset on more than one filter. Let's look at movies greater than 240 minutes and in English\n",
    "movie_df[(movie_df['Duration']>=240) & (movie_df['Language'] == 'English')]"
   ]
  },
  {
   "cell_type": "code",
   "execution_count": null,
   "metadata": {},
   "outputs": [],
   "source": [
    "# Instead of bringing in the entire dataframe with all the columns, we can only show columns we're interested in.\n",
    "columns_to_view = ['Title', 'Year', 'Duration', 'IMDB Score']\n",
    "movie_subset_df = movie_df[columns_to_view]\n",
    "movie_subset_df.head()"
   ]
  },
  {
   "cell_type": "code",
   "execution_count": null,
   "metadata": {},
   "outputs": [],
   "source": [
    "# Exercise 1, subset the movie data to returning movies in english that had a budget of greater than 200MM and country is USA.\n",
    "\n",
    "# How many movies made this list?\n",
    "\n",
    "#Ans:\n",
    "movie_df[(movie_df['Language'] == 'English') & (movie_df['Budget']>200000000) & (movie_df['Country'] == \"USA\")]"
   ]
  },
  {
   "cell_type": "code",
   "execution_count": null,
   "metadata": {},
   "outputs": [],
   "source": [
    "# Let's say we only want to see the titles of movies that are greater than 240 minutes. \n",
    "movie_df[movie_df['Duration']>=240][['Title']]  # Single bracket will return a Series, while double bracket returns DF"
   ]
  },
  {
   "cell_type": "markdown",
   "metadata": {},
   "source": [
    "### The above syntax to subset is called chain indexing (notice the ][ brackets), which is fine to do in this instance, however it's not recommended. Just to be clear, the first part of the subset (greater than 240) is a correct python idiom, however, adding the 'Title' in that way is chain indexing, which again is not recommended, but in most cases will work. The reasoning is way beyond scope of this class, but a couple of the main reasons are issues with mutability and this way of subsetting is inefficient. "
   ]
  },
  {
   "cell_type": "markdown",
   "metadata": {},
   "source": [
    "#### Instead of chain indexing, we'll use pandas' indexing methods, namely loc and iloc."
   ]
  },
  {
   "cell_type": "code",
   "execution_count": null,
   "metadata": {},
   "outputs": [],
   "source": [
    "# Some useful method functions when working with pandas\n",
    "\n",
    "print(movie_df.shape) # Gives number of rows and columns of dataframe\n",
    "print(movie_df.columns) # Gives the names of the columns in the dataframe"
   ]
  },
  {
   "cell_type": "code",
   "execution_count": null,
   "metadata": {},
   "outputs": [],
   "source": [
    "# Let's work with .iloc.   Filter the first three movies with the first 2 columns\n",
    "movie_df.iloc[0:3,0:2]\n",
    "\n",
    "### Other ways to filter using iloc(remove the '#' to run)\n",
    "\n",
    "# movie_df.iloc[-1] # last row of data frame\n",
    "# movie_df.iloc[0:5]   # first five rows of dataframe\n",
    "# movie_df.iloc[[0,1,7,15], [0,6,8]] # 1st, 2nd, 8th, 16th row & 1st, 7th, 9th columns."
   ]
  },
  {
   "cell_type": "code",
   "execution_count": null,
   "metadata": {},
   "outputs": [],
   "source": [
    "# Let's use iloc to get the same data from the chain indexing example:  movie_df[movie_df['Duration']>=240][['Title']]\n",
    "# The title is the first column, so it's column index is 0. Note use of .index since we need to match indexes of subset\n",
    "\n",
    "movie_df.iloc[movie_df[movie_df['Duration']>=240].index,0:1] # used column index 0:1 to return a df vs a Series.\n",
    "\n",
    "# Subsetting with iloc is intuitive, but it looks cleaner when used with loc instead."
   ]
  },
  {
   "cell_type": "code",
   "execution_count": null,
   "metadata": {},
   "outputs": [],
   "source": [
    "# In my opinoin, loc is much easier to use, especially when you have column headers. It's also useful if you have row/index names\n",
    "# We'll look at those examples a little bit later.\n",
    "\n",
    "\n",
    "# First three rows with columns of Title and year.\n",
    "movie_df.loc[0:3,['Title', 'Year']]\n",
    "\n",
    "# More examples of loc\n",
    "\n",
    "# movie_df.loc[[0,3,5], ['Title', 'Year', 'Actor 1']] # rows 1,4,6, & Title, Year, Actor 1 columns"
   ]
  },
  {
   "cell_type": "code",
   "execution_count": null,
   "metadata": {},
   "outputs": [],
   "source": [
    "# Use loc to get the same data from the chain indexing example:  movie_df[movie_df['Duration']>=240][['Title']]\n",
    "\n",
    "movie_df.loc[movie_df['Duration']>=240,'Title'] # To put into a dataframe view vs Series, put 'Title' in brackets.\n",
    "                                                # movie_df.loc[movie_df['Duration']>=240,['Title']]\n",
    "\n",
    "# Subsetting with iloc is intuitive, but it looks cleaner when used with loc instead."
   ]
  },
  {
   "cell_type": "markdown",
   "metadata": {},
   "source": [
    "##### Sometimes it's useful to have a row/index name with loc. For instance, we often don't know what row a certain movie is in. It would be easier just to call it by name. \n",
    "\n",
    "Let's create a new dataframe to illustrate this example. "
   ]
  },
  {
   "cell_type": "code",
   "execution_count": null,
   "metadata": {},
   "outputs": [],
   "source": [
    "# Create a new copy of the df\n",
    "movie_df2 = movie_df.copy()\n",
    "\n",
    "# Remove any white space before/after title name:\n",
    "movie_df2['Title'] = movie_df2['Title'].str.strip()\n",
    "\n",
    "# Set the index to Title since it's unique. Setting to inplace = True will update the dataframe in place\n",
    "movie_df2.set_index('Title', inplace=True)"
   ]
  },
  {
   "cell_type": "code",
   "execution_count": null,
   "metadata": {},
   "outputs": [],
   "source": [
    "movie_df2.index # Can see that the indexes are the movie title's"
   ]
  },
  {
   "cell_type": "code",
   "execution_count": null,
   "metadata": {},
   "outputs": [],
   "source": [
    "# If we want to find the IMDB Score, 'Actor 1', 'Actor 2', 'Director', 'Budget', 'Gross Earnings' of\n",
    "# Anchorman 2: The Legend Continues\n",
    "\n",
    "movie_df2.loc['Anchorman 2: The Legend Continues', ['IMDB Score', 'Actor 1', 'Actor 2', 'Director', 'Budget', 'Gross Earnings']]\n",
    "\n",
    "# You can even use the : to get every movie after. ..Sorting before hand also helps if you want the data in a particular order\n",
    "# beforehand.\n",
    "\n",
    "# movie_df2.loc['Anchorman 2: The Legend Continues':, ['IMDB Score', 'Actor 1', 'Actor 2', 'Director', 'Budget', 'Gross Earnings']]"
   ]
  },
  {
   "cell_type": "markdown",
   "metadata": {},
   "source": [
    "##### Play around with loc and get comfortable using it. Other great use cases include having a loan or transaction ID as the index, having unique date perioeds, etc."
   ]
  },
  {
   "cell_type": "code",
   "execution_count": null,
   "metadata": {},
   "outputs": [],
   "source": [
    "# Other ways to index using loc and iloc\n",
    "movie_df.loc[1234] # returns the ninth index row with it's corresponding columns.  iloc will work the same.\n",
    "\n",
    "# movie_df.iloc[9]"
   ]
  },
  {
   "cell_type": "code",
   "execution_count": null,
   "metadata": {},
   "outputs": [],
   "source": [
    "# Exercise 2 - Subset the movie dataset showing only the Title, Year, IMBD Score where Country is USA and IMBD Score > 9\n",
    "\n",
    "# Ans:\n",
    "movie_df.loc[(movie_df['Country'] == \"USA\") & (movie_df['IMDB Score']>9), ['Title', 'Year', 'IMDB Score']]"
   ]
  },
  {
   "cell_type": "markdown",
   "metadata": {},
   "source": [
    "There are many different ways to subset/index your data in python. With Pandas, some ways are better than others. It is better to use the pandas methods of loc and iloc. The main reason is that these methods are much more efficient and faster. To learn more, there's a great blog [here](https://medium.com/dunder-data/selecting-subsets-of-data-in-pandas-part-4-c4216f84d388)."
   ]
  },
  {
   "cell_type": "markdown",
   "metadata": {},
   "source": [
    "### <font color= green>Data munging/wrangling</font>\n",
    "\n",
    "Next, we'll work on some very basic data wrangling techniques, ranging from dealing with Null values to grouping, pivoting, filtering, and joining data.\n",
    "\n",
    "Dealing with Null values. Sometimes we would like to change Null values to 0's or use some sort of central number, like the mean or median. Pandas makes this very easy to do with the fill_na() method. Next, we'll work with some examples."
   ]
  },
  {
   "cell_type": "markdown",
   "metadata": {},
   "source": [
    "Let's look at the Movie dataframe. We can inspect which fields have null values using the isnull or info methods."
   ]
  },
  {
   "cell_type": "code",
   "execution_count": null,
   "metadata": {},
   "outputs": [],
   "source": [
    "# Find nulls using the .info() method.\n",
    "\n",
    "# First, let's only look at movies that are from the US.\n",
    "\n",
    "movie_usa = movie_df[movie_df['Country']=='USA'].reset_index()  # without resetting the index, the index values won't change from\n",
    "                                                                # the original df.\n",
    "\n",
    "movie_usa.info()"
   ]
  },
  {
   "cell_type": "code",
   "execution_count": null,
   "metadata": {},
   "outputs": [],
   "source": [
    "# Find nulls using the .info() method.\n",
    "movie_usa.isnull().sum()"
   ]
  },
  {
   "cell_type": "code",
   "execution_count": null,
   "metadata": {},
   "outputs": [],
   "source": [
    "# Let's fill the Null's in the FB Director Likes column with zero's instead of none.\n",
    "\n",
    "movie_usa['Facebook Likes - Director'].fillna(0, inplace = True)\n",
    "\n",
    "# You can fill na's with any type of value, such as a constant, median, mean, etc."
   ]
  },
  {
   "cell_type": "code",
   "execution_count": null,
   "metadata": {},
   "outputs": [],
   "source": [
    "# Exercise 3 - Fill the Facebook likes for Actor 3 to be the median value of all FB likes for actor 3\n",
    "\n",
    "# Ans:\n",
    "movie_usa['Facebook Likes - Actor 3'].fillna(movie_usa['Facebook Likes - Actor 3'].median(), inplace = True)"
   ]
  },
  {
   "cell_type": "code",
   "execution_count": null,
   "metadata": {},
   "outputs": [],
   "source": [
    "# Let's make sure FB likes for Director and Actor 3 have no more null values.\n",
    "\n",
    "print movie_usa['Facebook Likes - Director'].isnull().sum()\n",
    "print movie_usa['Facebook Likes - Actor 3'].isnull().sum()"
   ]
  },
  {
   "cell_type": "code",
   "execution_count": null,
   "metadata": {},
   "outputs": [],
   "source": [
    "# Let's say we want to just drop the remaining rows that have NA\n",
    "\n",
    "movie_usa.dropna(inplace = True)"
   ]
  },
  {
   "cell_type": "code",
   "execution_count": null,
   "metadata": {},
   "outputs": [],
   "source": [
    "movie_usa.isnull().sum()"
   ]
  },
  {
   "cell_type": "markdown",
   "metadata": {},
   "source": [
    "Now that we worked with filling NA's and dropping NA's, let's work on grouping the data in different ways."
   ]
  },
  {
   "cell_type": "code",
   "execution_count": null,
   "metadata": {},
   "outputs": [],
   "source": [
    "# Group Data by Year and average the gross earnings.\n",
    "movie_usa['Gross Earnings'].groupby(by = movie_df['Year']).mean().head(15)"
   ]
  },
  {
   "cell_type": "code",
   "execution_count": null,
   "metadata": {},
   "outputs": [],
   "source": [
    "# Let's group by director and sort by highest earning directors by average showing top 5\n",
    "movie_usa['Gross Earnings'].groupby(movie_usa['Director']).mean().sort_values(ascending = False).head()"
   ]
  },
  {
   "cell_type": "code",
   "execution_count": null,
   "metadata": {},
   "outputs": [],
   "source": [
    "# Exercise 4 - Find top 10 Actors (use 'Actor 1') with the highest total gross earnings\n",
    "\n",
    "# Who's number 1?  Who's number 8?\n",
    "\n",
    "# Ans:\n",
    "movie_usa['Gross Earnings'].groupby(movie_usa['Actor 1']).sum().sort_values(ascending = False).head(10) "
   ]
  },
  {
   "cell_type": "code",
   "execution_count": null,
   "metadata": {},
   "outputs": [],
   "source": [
    "# Let's view the average gross earning by genre and ratings\n",
    "\n",
    "movie_usa['Gross Earnings'].groupby(by = [movie_usa['Year'], movie_usa['Content Rating']]).mean().tail(20)"
   ]
  },
  {
   "cell_type": "code",
   "execution_count": null,
   "metadata": {},
   "outputs": [],
   "source": [
    "# Here is another example of using groupby\n",
    "\n",
    "# Group by Director/Actor 1 combination and find the average IMDB Score.\n",
    "# This creates a mulitlevel index of Director/Actor\n",
    "movie_usa.groupby(['Director', 'Actor 1'])['IMDB Score'].mean().head()"
   ]
  },
  {
   "cell_type": "code",
   "execution_count": null,
   "metadata": {},
   "outputs": [],
   "source": [
    "# Assign the group to a variable and we can use it to search.\n",
    "\n",
    "director_actor_df = movie_usa.groupby(['Director', 'Actor 1'])['IMDB Score'].mean()\n",
    "\n",
    "# Let's look at Christopher Nolan\n",
    "director_actor_df.loc[['Christopher Nolan']].sort_values(ascending = False)"
   ]
  },
  {
   "cell_type": "code",
   "execution_count": null,
   "metadata": {},
   "outputs": [],
   "source": [
    "# Exercise 5 - Find top 5 Directors with the best average IMBD Scores\n",
    "\n",
    "# Ans:\n",
    "movie_usa[['IMDB Score', 'Gross Earnings']].groupby(movie_usa['Director']).\\\n",
    "mean().sort_values(by='IMDB Score',ascending=False).head()"
   ]
  },
  {
   "cell_type": "code",
   "execution_count": null,
   "metadata": {},
   "outputs": [],
   "source": [
    "# Exercise 6 - Group movies by year after 2010 with the values as the average Gross earnings. \n",
    "\n",
    "# Ans:\n",
    "movie_usa.loc[movie_usa['Year']>2010, ['Year', 'Gross Earnings']].groupby('Year').mean()"
   ]
  },
  {
   "cell_type": "markdown",
   "metadata": {},
   "source": [
    "Very similar to group by's are pivot tables. Both are essentially the same in that they group data together along with some sort of aggregation calculation. The main difference is how the data is viewed/displayed. Let's compare the two."
   ]
  },
  {
   "cell_type": "code",
   "execution_count": null,
   "metadata": {},
   "outputs": [],
   "source": [
    "# Using pivot_table()\n",
    "import numpy as np # Using Numpy's numerical functions\n",
    "\n",
    "pd.pivot_table(movie_usa, values = ['IMDB Score','Gross Earnings'], index = 'Director'\\\n",
    "               , aggfunc={'IMDB Score': np.mean, 'Gross Earnings': np.sum}).sort_values('IMDB Score', ascending = False).head()"
   ]
  },
  {
   "cell_type": "code",
   "execution_count": null,
   "metadata": {},
   "outputs": [],
   "source": [
    "# You can also look at different aggregate functions from the same columns using pivot_table or groupby.\n",
    "\n",
    "pd.pivot_table(movie_usa, values = ['IMDB Score','Gross Earnings'], index = 'Director'\\\n",
    "               , aggfunc={'IMDB Score': np.mean, 'Gross Earnings': [min, max, np.mean, len]}\\\n",
    "              ).sort_values([('IMDB Score', 'mean')], ascending = False).head()"
   ]
  },
  {
   "cell_type": "code",
   "execution_count": null,
   "metadata": {},
   "outputs": [],
   "source": [
    "test1 = pd.pivot_table(movie_usa, values = ['IMDB Score','Gross Earnings'], index = 'Director'\\\n",
    "               , aggfunc={'IMDB Score': np.mean, 'Gross Earnings': [min, max, np.mean, len]}\\\n",
    "              ).sort_values([('IMDB Score', 'mean')], ascending = False).head()"
   ]
  },
  {
   "cell_type": "code",
   "execution_count": null,
   "metadata": {},
   "outputs": [],
   "source": [
    "# Another example\n",
    "\n",
    "pd.pivot_table(movie_usa, index = ['Actor 1'], values = ['IMDB Score', 'Gross Earnings']\\\n",
    "               , aggfunc={'Gross Earnings' : [np.sum,len], 'IMDB Score': [min, max, np.mean]}\\\n",
    "              ).sort_values([('Gross Earnings', 'sum')], ascending = False).head(10)"
   ]
  },
  {
   "cell_type": "markdown",
   "metadata": {},
   "source": [
    "#### Next, we'll look at ways to merge different datasets."
   ]
  },
  {
   "cell_type": "markdown",
   "metadata": {},
   "source": [
    "In this example, we only want to look at Actors that have been in 5 or more movies within this dataset.   \n",
    "First, we'll create a grouped data frame that has all the actors and the count of their movies.\n",
    "\n",
    "We'll then filter out only the actors with 5 or more movies. \n",
    "Finally, we'll merge this dataset filter with the original dataframe. "
   ]
  },
  {
   "cell_type": "code",
   "execution_count": null,
   "metadata": {},
   "outputs": [],
   "source": [
    "# Let's work with the original movie_df, but this time drop all rows with null\n",
    "\n",
    "print(movie_df.shape)\n",
    "movie_clean = movie_df.dropna().reset_index(drop = True)"
   ]
  },
  {
   "cell_type": "code",
   "execution_count": null,
   "metadata": {},
   "outputs": [],
   "source": [
    "movie_actor_count = movie_clean.groupby(['Actor 1'])[['Title']].count()  # returns a df of the actor and count of movies\n",
    "\n",
    "movie_actor_g5 = movie_actor_count[movie_actor_count['Title']>=5].reset_index() # returns a df of only actors in 5+ movies.\n",
    "# Need to reset the index to make the Actors name a column.          "
   ]
  },
  {
   "cell_type": "code",
   "execution_count": null,
   "metadata": {},
   "outputs": [],
   "source": [
    "# Next we'll merge. This is very similar to joining in a sql query.  We want an 'inner' join since we only want to return\n",
    "# matched data\n",
    "\n",
    "movie_actorG5_df = movie_clean.merge(movie_actor_g5, left_on = \"Actor 1\", right_on = 'Actor 1', how='inner' )"
   ]
  },
  {
   "cell_type": "code",
   "execution_count": null,
   "metadata": {},
   "outputs": [],
   "source": [
    "movie_actorG5_df.shape"
   ]
  },
  {
   "cell_type": "code",
   "execution_count": null,
   "metadata": {},
   "outputs": [],
   "source": [
    "# Exercise 7 - Create a pivot table that shows top 10 actors by IMBD Rating along with the len, max, min, mean Gross Earnings.\n",
    "#              Use the new movie_actorG5_df dataframe. \n",
    "#              Play around with different columns to explore the data in other ways. \n",
    "\n",
    " \n",
    "# Ans:\n",
    "pd.pivot_table(movie_actorG5_df, values = ['IMDB Score','Gross Earnings'], index = 'Actor 1',\\\n",
    "               aggfunc={'IMDB Score': [min, max, np.mean], 'Gross Earnings': [min, max, np.mean, len]}\\\n",
    "              ).sort_values([('IMDB Score', 'mean')], ascending = False).head(15)"
   ]
  },
  {
   "cell_type": "markdown",
   "metadata": {},
   "source": [
    "We can also create new columns based on values of other columns or even calculations. \n",
    "\n",
    "As an example, let's figure out what movies are the most profitable using the movie_actorG5_df dataframe"
   ]
  },
  {
   "cell_type": "code",
   "execution_count": null,
   "metadata": {},
   "outputs": [],
   "source": [
    "movie_actorG5_df['profit'] = movie_actorG5_df['Gross Earnings'] - movie_actorG5_df['Budget']  "
   ]
  },
  {
   "cell_type": "code",
   "execution_count": null,
   "metadata": {},
   "outputs": [],
   "source": [
    "movie_actorG5_df.loc[:,['Title_x', 'Director', 'Year', 'Actor 1', 'Gross Earnings', 'Budget', 'profit']].head()"
   ]
  },
  {
   "cell_type": "code",
   "execution_count": null,
   "metadata": {},
   "outputs": [],
   "source": [
    "# Exercise 8a - Who are the top 10 profit making actors?\n",
    "\n",
    "# Ans:\n",
    "movie_actorG5_df[['profit']].groupby(movie_actorG5_df['Actor 1']).sum().sort_values(by = 'profit', ascending = False).head(10)"
   ]
  },
  {
   "cell_type": "code",
   "execution_count": null,
   "metadata": {},
   "outputs": [],
   "source": [
    "# Exercise 8b - Who are the top 10 least profitable actors?\n",
    "\n",
    "# Ans:\n",
    "movie_actorG5_df[['profit']].groupby(movie_actorG5_df['Actor 1']).sum().sort_values(by = 'profit', ascending = False).tail(10)"
   ]
  },
  {
   "cell_type": "code",
   "execution_count": null,
   "metadata": {},
   "outputs": [],
   "source": []
  }
 ],
 "metadata": {
  "kernelspec": {
   "display_name": "Python 3",
   "language": "python",
   "name": "python3"
  },
  "language_info": {
   "codemirror_mode": {
    "name": "ipython",
    "version": 3
   },
   "file_extension": ".py",
   "mimetype": "text/x-python",
   "name": "python",
   "nbconvert_exporter": "python",
   "pygments_lexer": "ipython3",
   "version": "3.7.1"
  }
 },
 "nbformat": 4,
 "nbformat_minor": 2
}
